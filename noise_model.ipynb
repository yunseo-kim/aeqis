{
  "cells": [
    {
      "cell_type": "markdown",
      "metadata": {
        "colab_type": "text",
        "id": "view-in-github"
      },
      "source": [
        "<a href=\"https://colab.research.google.com/github/yunseo-qleap/aeqis/blob/inhyuk/noise_model.ipynb\" target=\"_parent\"><img src=\"https://colab.research.google.com/assets/colab-badge.svg\" alt=\"Open In Colab\"/></a>"
      ]
    },
    {
      "cell_type": "markdown",
      "metadata": {
        "id": "2uH14rQFJy6K"
      },
      "source": [
        "9 qubit error model \n"
      ]
    },
    {
      "cell_type": "code",
      "execution_count": 34,
      "metadata": {
        "id": "Ie3kWt9pau2u"
      },
      "outputs": [],
      "source": [
        "import pennylane as qml\n",
        "from pennylane import numpy as np"
      ]
    },
    {
      "cell_type": "code",
      "execution_count": 40,
      "metadata": {
        "id": "sv4lHE52nhR4"
      },
      "outputs": [],
      "source": [
        "dev = qml.device('default.mixed', wires=9)\n"
      ]
    },
    {
      "cell_type": "code",
      "execution_count": 41,
      "metadata": {
        "id": "I_WRZMzWhe97"
      },
      "outputs": [],
      "source": [
        "ev = np.tensor(0.7781, requires_grad=False)  # observed expectation value\n",
        "\n",
        "def sigmoid(x):\n",
        "    return 1/(1+np.exp(-x))\n",
        "\n",
        "@qml.qnode(dev)\n",
        "def damping_circuit(x):\n",
        "    qml.Hadamard(wires=0)\n",
        "    for i in range(8):\n",
        "       qml.CNOT(wires=[i, i+1])\n",
        "       qml.AmplitudeDamping(sigmoid(x), wires=i)  # p = sigmoid(x) \n",
        "    return qml.expval(qml.PauliZ(0) @ qml.PauliZ(1))"
      ]
    },
    {
      "cell_type": "code",
      "execution_count": 42,
      "metadata": {
        "id": "wSLcLtAphk22"
      },
      "outputs": [],
      "source": [
        "def cost(x, target):\n",
        "    return (damping_circuit(x) - target)**2"
      ]
    },
    {
      "cell_type": "code",
      "execution_count": 43,
      "metadata": {
        "colab": {
          "base_uri": "https://localhost:8080/"
        },
        "id": "UaRR5jz7kGvC",
        "outputId": "ae06a268-fbe4-4a29-e8d8-5b1242374a13"
      },
      "outputs": [
        {
          "name": "stderr",
          "output_type": "stream",
          "text": [
            "/usr/local/lib/python3.7/dist-packages/autograd/numpy/numpy_wrapper.py:156: ComplexWarning: Casting complex values to real discards the imaginary part\n",
            "  return A.astype(dtype, order, casting, subok, copy)\n"
          ]
        },
        {
          "name": "stdout",
          "output_type": "stream",
          "text": [
            "Step: 0    Cost: 0.07733961000000007\n",
            "Step: 5    Cost: 0.07733961000000007\n",
            "Step: 10    Cost: 0.07733961000000007\n",
            "Step: 15    Cost: 0.07733961000000007\n",
            "Step: 20    Cost: 0.07733961000000007\n",
            "Step: 25    Cost: 0.07733961000000007\n",
            "Step: 30    Cost: 0.07733961000000007\n",
            "Step: 34    Cost: 0.07733961000000007\n",
            "QNode output after optimization = 0.5000\n",
            "Experimental expectation value = 0.7781\n",
            "Optimized noise parameter p = 0.5000\n"
          ]
        }
      ],
      "source": [
        "opt = qml.GradientDescentOptimizer(stepsize=10)\n",
        "steps = 35\n",
        "x = np.tensor(0.0, requires_grad=True)\n",
        "\n",
        "for i in range(steps):\n",
        "    (x, ev), cost_val = opt.step_and_cost(cost, x, ev)\n",
        "    if i % 5 == 0 or i == steps - 1:\n",
        "        print(f\"Step: {i}    Cost: {cost_val}\")\n",
        "\n",
        "print(f\"QNode output after optimization = {damping_circuit(x):.4f}\")\n",
        "print(f\"Experimental expectation value = {ev}\")\n",
        "print(f\"Optimized noise parameter p = {sigmoid(x.take(0)):.4f}\")"
      ]
    },
    {
      "cell_type": "code",
      "execution_count": 44,
      "metadata": {
        "colab": {
          "base_uri": "https://localhost:8080/"
        },
        "id": "zYjeDH25uwP9",
        "outputId": "e3e53444-7dfa-4c80-887b-410ddfae4bbb"
      },
      "outputs": [
        {
          "name": "stdout",
          "output_type": "stream",
          "text": [
            "Output state is = \n",
            "[[0.5        0.         0.         ... 0.         0.         0.03125   ]\n",
            " [0.         0.00195313 0.         ... 0.         0.         0.        ]\n",
            " [0.         0.         0.         ... 0.         0.         0.        ]\n",
            " ...\n",
            " [0.         0.         0.         ... 0.00195313 0.         0.        ]\n",
            " [0.         0.         0.         ... 0.         0.         0.        ]\n",
            " [0.03125    0.         0.         ... 0.         0.         0.00195313]]\n"
          ]
        }
      ],
      "source": [
        "print(f\"Output state is = \\n{np.real(dev.state)}\")"
      ]
    },
    {
      "cell_type": "markdown",
      "metadata": {
        "id": "8_fU2-_oKBl7"
      },
      "source": [
        "9큐빗 비트플립 모델 "
      ]
    },
    {
      "cell_type": "code",
      "execution_count": 45,
      "metadata": {
        "id": "rsxVot_6vcD_"
      },
      "outputs": [],
      "source": [
        "import matplotlib.pyplot as plt\n",
        "fig = qml.draw_mpl(dev)\n",
        "plt.show()"
      ]
    },
    {
      "cell_type": "code",
      "execution_count": 46,
      "metadata": {
        "colab": {
          "base_uri": "https://localhost:8080/"
        },
        "id": "Tu07PpeQvvNd",
        "outputId": "41f5ba50-8696-41be-eadb-5f1f7b8fb99e"
      },
      "outputs": [
        {
          "name": "stdout",
          "output_type": "stream",
          "text": [
            "QNode output for bit flip probability 0.001 is 0.9960\n",
            "QNode output for bit flip probability 0.01 is 0.9604\n",
            "QNode output for bit flip probability 0.1 is 0.6400\n",
            "QNode output for bit flip probability 0.2 is 0.3600\n"
          ]
        }
      ],
      "source": [
        "@qml.qnode(dev)\n",
        "def bitflip_circuit(p):\n",
        "    qml.Hadamard(wires=0)\n",
        "    for i in range(8):\n",
        "      qml.CNOT(wires=[i, i+1])\n",
        "      qml.BitFlip(p, wires=i)\n",
        "\n",
        "    return qml.expval(qml.PauliZ(0) @ qml.PauliZ(1))\n",
        "\n",
        "\n",
        "ps = [0.001, 0.01, 0.1, 0.2]\n",
        "for p in ps:\n",
        "    print(f\"QNode output for bit flip probability {p} is {bitflip_circuit(p):.4f}\")"
      ]
    },
    {
      "cell_type": "code",
      "execution_count": 47,
      "metadata": {
        "colab": {
          "base_uri": "https://localhost:8080/"
        },
        "id": "zPYj9C0Pw0wS",
        "outputId": "307f3926-7b84-4401-bdbe-c16ad46ae22d"
      },
      "outputs": [
        {
          "name": "stdout",
          "output_type": "stream",
          "text": [
            "Output state for bit flip probability 0.2 is \n",
            "[[8.388608e-02 0.000000e+00 0.000000e+00 ... 0.000000e+00 0.000000e+00\n",
            "  8.388608e-02]\n",
            " [0.000000e+00 1.280000e-06 0.000000e+00 ... 0.000000e+00 1.280000e-06\n",
            "  0.000000e+00]\n",
            " [0.000000e+00 0.000000e+00 2.097152e-02 ... 2.097152e-02 0.000000e+00\n",
            "  0.000000e+00]\n",
            " ...\n",
            " [0.000000e+00 0.000000e+00 2.097152e-02 ... 2.097152e-02 0.000000e+00\n",
            "  0.000000e+00]\n",
            " [0.000000e+00 1.280000e-06 0.000000e+00 ... 0.000000e+00 1.280000e-06\n",
            "  0.000000e+00]\n",
            " [8.388608e-02 0.000000e+00 0.000000e+00 ... 0.000000e+00 0.000000e+00\n",
            "  8.388608e-02]]\n"
          ]
        }
      ],
      "source": [
        "print(f\"Output state for bit flip probability {p} is \\n{np.real(dev.state)}\")"
      ]
    },
    {
      "cell_type": "markdown",
      "metadata": {
        "id": "WqAs6LcsKNtb"
      },
      "source": [
        "2 qubit "
      ]
    },
    {
      "cell_type": "code",
      "execution_count": 48,
      "metadata": {
        "id": "R3KaYmoBw41W"
      },
      "outputs": [],
      "source": [
        "ev = np.tensor(0.7781, requires_grad=False)  # observed expectation value\n",
        "\n",
        "def sigmoid(x):\n",
        "    return 1/(1+np.exp(-x))\n",
        "\n",
        "@qml.qnode(dev)\n",
        "def damping_circuit(x):\n",
        "    qml.Hadamard(wires=0)\n",
        "    qml.CNOT(wires=[0, 1])\n",
        "    qml.AmplitudeDamping(sigmoid(x), wires=0)  # p = sigmoid(x)\n",
        "    qml.AmplitudeDamping(sigmoid(x), wires=1)\n",
        "    return qml.expval(qml.PauliZ(0) @ qml.PauliZ(1))"
      ]
    },
    {
      "cell_type": "code",
      "execution_count": 49,
      "metadata": {
        "id": "OUhqzAYO2NoQ"
      },
      "outputs": [],
      "source": [
        "\n",
        "def cost(x, target):\n",
        "    return (damping_circuit(x) - target)**2"
      ]
    },
    {
      "cell_type": "code",
      "execution_count": 50,
      "metadata": {
        "colab": {
          "base_uri": "https://localhost:8080/"
        },
        "id": "CG_ZIfFy2P3n",
        "outputId": "c26d5c4d-72a9-4918-afdd-84f387348428"
      },
      "outputs": [
        {
          "name": "stderr",
          "output_type": "stream",
          "text": [
            "/usr/local/lib/python3.7/dist-packages/autograd/numpy/numpy_wrapper.py:156: ComplexWarning: Casting complex values to real discards the imaginary part\n",
            "  return A.astype(dtype, order, casting, subok, copy)\n"
          ]
        },
        {
          "name": "stdout",
          "output_type": "stream",
          "text": [
            "Step: 0    Cost: 0.07733961000000007\n",
            "Step: 5    Cost: 0.07733961000000007\n",
            "Step: 10    Cost: 0.07733961000000007\n",
            "Step: 15    Cost: 0.07733961000000007\n",
            "Step: 20    Cost: 0.07733961000000007\n",
            "Step: 25    Cost: 0.07733961000000007\n",
            "Step: 30    Cost: 0.07733961000000007\n",
            "Step: 34    Cost: 0.07733961000000007\n",
            "QNode output after optimization = 0.5000\n",
            "Experimental expectation value = 0.7781\n",
            "Optimized noise parameter p = 0.5000\n"
          ]
        }
      ],
      "source": [
        "opt = qml.GradientDescentOptimizer(stepsize=10)\n",
        "steps = 35\n",
        "x = np.tensor(0.0, requires_grad=True)\n",
        "\n",
        "for i in range(steps):\n",
        "    (x, ev), cost_val = opt.step_and_cost(cost, x, ev)\n",
        "    if i % 5 == 0 or i == steps - 1:\n",
        "        print(f\"Step: {i}    Cost: {cost_val}\")\n",
        "\n",
        "print(f\"QNode output after optimization = {damping_circuit(x):.4f}\")\n",
        "print(f\"Experimental expectation value = {ev}\")\n",
        "print(f\"Optimized noise parameter p = {sigmoid(x.take(0)):.4f}\")"
      ]
    },
    {
      "cell_type": "code",
      "execution_count": null,
      "metadata": {
        "id": "dGe_dtXJMPGy"
      },
      "outputs": [],
      "source": []
    },
    {
      "cell_type": "code",
      "execution_count": 51,
      "metadata": {
        "colab": {
          "base_uri": "https://localhost:8080/"
        },
        "id": "Weg9nify2ZSb",
        "outputId": "b8092586-ebeb-4dac-ff08-3c4adddbcd00"
      },
      "outputs": [
        {
          "name": "stdout",
          "output_type": "stream",
          "text": [
            "Output state is = \n",
            "[[0.625 0.    0.    ... 0.    0.    0.   ]\n",
            " [0.    0.    0.    ... 0.    0.    0.   ]\n",
            " [0.    0.    0.    ... 0.    0.    0.   ]\n",
            " ...\n",
            " [0.    0.    0.    ... 0.    0.    0.   ]\n",
            " [0.    0.    0.    ... 0.    0.    0.   ]\n",
            " [0.    0.    0.    ... 0.    0.    0.   ]]\n"
          ]
        }
      ],
      "source": [
        "print(f\"Output state is = \\n{np.real(dev.state)}\")"
      ]
    },
    {
      "cell_type": "code",
      "execution_count": null,
      "metadata": {
        "id": "yEybwf9V1kVN"
      },
      "outputs": [],
      "source": []
    }
  ],
  "metadata": {
    "colab": {
      "authorship_tag": "ABX9TyMTHFuQ1lwOsYfr/oy8g6QG",
      "collapsed_sections": [],
      "include_colab_link": true,
      "name": "noise model.ipynb",
      "provenance": [],
      "toc_visible": true
    },
    "gpuClass": "standard",
    "kernelspec": {
      "display_name": "Python 3.9.7 ('base')",
      "language": "python",
      "name": "python3"
    },
    "language_info": {
      "name": "python",
      "version": "3.9.7"
    },
    "vscode": {
      "interpreter": {
        "hash": "7427513780c3de3119413a0c0582787fe829ccb6a310d334095f1a5747e0a482"
      }
    }
  },
  "nbformat": 4,
  "nbformat_minor": 0
}
