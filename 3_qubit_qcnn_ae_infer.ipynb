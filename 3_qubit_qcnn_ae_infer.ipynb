{
  "cells": [
    {
      "cell_type": "markdown",
      "metadata": {
        "id": "NWGbvrK5Ej0E"
      },
      "source": [
        "## 1. Module Import and Hyper-parameters Setting"
      ]
    },
    {
      "cell_type": "markdown",
      "metadata": {
        "id": "leBa4O5SE2Qd"
      },
      "source": [
        "### 1-1. Setup & Module Import"
      ]
    },
    {
      "cell_type": "code",
      "execution_count": 1,
      "metadata": {
        "id": "CBH5ggGT_R45",
        "colab": {
          "base_uri": "https://localhost:8080/"
        },
        "outputId": "41241b46-5814-4684-a229-6022e8d6c237"
      },
      "outputs": [
        {
          "output_type": "stream",
          "name": "stdout",
          "text": [
            "Looking in indexes: https://pypi.org/simple, https://us-python.pkg.dev/colab-wheels/public/simple/\n",
            "Requirement already satisfied: pip in /usr/local/lib/python3.7/dist-packages (21.1.3)\n",
            "Collecting pip\n",
            "  Downloading pip-22.1.2-py3-none-any.whl (2.1 MB)\n",
            "\u001b[K     |████████████████████████████████| 2.1 MB 5.4 MB/s \n",
            "\u001b[?25hCollecting qiskit[visualization]\n",
            "  Downloading qiskit-0.36.2.tar.gz (13 kB)\n",
            "Collecting qiskit-terra==0.20.2\n",
            "  Downloading qiskit_terra-0.20.2-cp37-cp37m-manylinux_2_17_x86_64.manylinux2014_x86_64.whl (6.5 MB)\n",
            "\u001b[K     |████████████████████████████████| 6.5 MB 28.2 MB/s \n",
            "\u001b[?25hCollecting qiskit-aer==0.10.4\n",
            "  Downloading qiskit_aer-0.10.4-cp37-cp37m-manylinux_2_12_x86_64.manylinux2010_x86_64.whl (18.0 MB)\n",
            "\u001b[K     |████████████████████████████████| 18.0 MB 314 kB/s \n",
            "\u001b[?25hCollecting qiskit-ibmq-provider==0.19.1\n",
            "  Downloading qiskit_ibmq_provider-0.19.1-py3-none-any.whl (240 kB)\n",
            "\u001b[K     |████████████████████████████████| 240 kB 56.5 MB/s \n",
            "\u001b[?25hCollecting qiskit-ignis==0.7.1\n",
            "  Downloading qiskit_ignis-0.7.1-py3-none-any.whl (198 kB)\n",
            "\u001b[K     |████████████████████████████████| 198 kB 61.4 MB/s \n",
            "\u001b[?25hRequirement already satisfied: matplotlib>=2.1 in /usr/local/lib/python3.7/dist-packages (from qiskit[visualization]) (3.2.2)\n",
            "Requirement already satisfied: ipywidgets>=7.3.0 in /usr/local/lib/python3.7/dist-packages (from qiskit[visualization]) (7.7.0)\n",
            "Requirement already satisfied: pydot in /usr/local/lib/python3.7/dist-packages (from qiskit[visualization]) (1.3.0)\n",
            "Requirement already satisfied: pillow>=4.2.1 in /usr/local/lib/python3.7/dist-packages (from qiskit[visualization]) (7.1.2)\n",
            "Collecting pylatexenc>=1.4\n",
            "  Downloading pylatexenc-2.10.tar.gz (162 kB)\n",
            "\u001b[K     |████████████████████████████████| 162 kB 73.2 MB/s \n",
            "\u001b[?25hRequirement already satisfied: seaborn>=0.9.0 in /usr/local/lib/python3.7/dist-packages (from qiskit[visualization]) (0.11.2)\n",
            "Requirement already satisfied: pygments>=2.4 in /usr/local/lib/python3.7/dist-packages (from qiskit[visualization]) (2.6.1)\n",
            "Requirement already satisfied: numpy>=1.16.3 in /usr/local/lib/python3.7/dist-packages (from qiskit-aer==0.10.4->qiskit[visualization]) (1.21.6)\n",
            "Requirement already satisfied: scipy>=1.0 in /usr/local/lib/python3.7/dist-packages (from qiskit-aer==0.10.4->qiskit[visualization]) (1.4.1)\n",
            "Requirement already satisfied: python-dateutil>=2.8.0 in /usr/local/lib/python3.7/dist-packages (from qiskit-ibmq-provider==0.19.1->qiskit[visualization]) (2.8.2)\n",
            "Collecting websockets>=10.0\n",
            "  Downloading websockets-10.3-cp37-cp37m-manylinux_2_5_x86_64.manylinux1_x86_64.manylinux_2_12_x86_64.manylinux2010_x86_64.whl (112 kB)\n",
            "\u001b[K     |████████████████████████████████| 112 kB 42.2 MB/s \n",
            "\u001b[?25hRequirement already satisfied: requests>=2.19 in /usr/local/lib/python3.7/dist-packages (from qiskit-ibmq-provider==0.19.1->qiskit[visualization]) (2.23.0)\n",
            "Collecting requests-ntlm>=1.1.0\n",
            "  Downloading requests_ntlm-1.1.0-py2.py3-none-any.whl (5.7 kB)\n",
            "Collecting websocket-client>=1.0.1\n",
            "  Downloading websocket_client-1.3.3-py3-none-any.whl (54 kB)\n",
            "\u001b[K     |████████████████████████████████| 54 kB 1.4 MB/s \n",
            "\u001b[?25hRequirement already satisfied: urllib3>=1.21.1 in /usr/local/lib/python3.7/dist-packages (from qiskit-ibmq-provider==0.19.1->qiskit[visualization]) (1.24.3)\n",
            "Requirement already satisfied: setuptools>=40.1.0 in /usr/local/lib/python3.7/dist-packages (from qiskit-ignis==0.7.1->qiskit[visualization]) (57.4.0)\n",
            "Collecting retworkx>=0.8.0\n",
            "  Downloading retworkx-0.11.0-cp37-cp37m-manylinux_2_5_x86_64.manylinux1_x86_64.manylinux_2_12_x86_64.manylinux2010_x86_64.whl (1.6 MB)\n",
            "\u001b[K     |████████████████████████████████| 1.6 MB 38.6 MB/s \n",
            "\u001b[?25hCollecting tweedledum<2.0,>=1.1\n",
            "  Downloading tweedledum-1.1.1-cp37-cp37m-manylinux_2_12_x86_64.manylinux2010_x86_64.whl (943 kB)\n",
            "\u001b[K     |████████████████████████████████| 943 kB 47.5 MB/s \n",
            "\u001b[?25hCollecting scipy>=1.0\n",
            "  Downloading scipy-1.7.3-cp37-cp37m-manylinux_2_12_x86_64.manylinux2010_x86_64.whl (38.1 MB)\n",
            "\u001b[K     |████████████████████████████████| 38.1 MB 6.4 MB/s \n",
            "\u001b[?25hCollecting ply>=3.10\n",
            "  Downloading ply-3.11-py2.py3-none-any.whl (49 kB)\n",
            "\u001b[K     |████████████████████████████████| 49 kB 5.8 MB/s \n",
            "\u001b[?25hCollecting python-constraint>=1.4\n",
            "  Downloading python-constraint-1.4.0.tar.bz2 (18 kB)\n",
            "Requirement already satisfied: dill>=0.3 in /usr/local/lib/python3.7/dist-packages (from qiskit-terra==0.20.2->qiskit[visualization]) (0.3.5.1)\n",
            "Requirement already satisfied: sympy>=1.3 in /usr/local/lib/python3.7/dist-packages (from qiskit-terra==0.20.2->qiskit[visualization]) (1.7.1)\n",
            "Collecting symengine>=0.9\n",
            "  Downloading symengine-0.9.2-cp37-cp37m-manylinux2010_x86_64.whl (37.5 MB)\n",
            "\u001b[K     |████████████████████████████████| 37.5 MB 1.3 MB/s \n",
            "\u001b[?25hCollecting stevedore>=3.0.0\n",
            "  Downloading stevedore-3.5.0-py3-none-any.whl (49 kB)\n",
            "\u001b[K     |████████████████████████████████| 49 kB 6.5 MB/s \n",
            "\u001b[?25hRequirement already satisfied: psutil>=5 in /usr/local/lib/python3.7/dist-packages (from qiskit-terra==0.20.2->qiskit[visualization]) (5.4.8)\n",
            "Requirement already satisfied: ipython>=4.0.0 in /usr/local/lib/python3.7/dist-packages (from ipywidgets>=7.3.0->qiskit[visualization]) (5.5.0)\n",
            "Requirement already satisfied: traitlets>=4.3.1 in /usr/local/lib/python3.7/dist-packages (from ipywidgets>=7.3.0->qiskit[visualization]) (5.1.1)\n",
            "Requirement already satisfied: widgetsnbextension~=3.6.0 in /usr/local/lib/python3.7/dist-packages (from ipywidgets>=7.3.0->qiskit[visualization]) (3.6.0)\n",
            "Requirement already satisfied: ipython-genutils~=0.2.0 in /usr/local/lib/python3.7/dist-packages (from ipywidgets>=7.3.0->qiskit[visualization]) (0.2.0)\n",
            "Requirement already satisfied: ipykernel>=4.5.1 in /usr/local/lib/python3.7/dist-packages (from ipywidgets>=7.3.0->qiskit[visualization]) (4.10.1)\n",
            "Requirement already satisfied: jupyterlab-widgets>=1.0.0 in /usr/local/lib/python3.7/dist-packages (from ipywidgets>=7.3.0->qiskit[visualization]) (1.1.0)\n",
            "Requirement already satisfied: nbformat>=4.2.0 in /usr/local/lib/python3.7/dist-packages (from ipywidgets>=7.3.0->qiskit[visualization]) (5.4.0)\n",
            "Requirement already satisfied: jupyter-client in /usr/local/lib/python3.7/dist-packages (from ipykernel>=4.5.1->ipywidgets>=7.3.0->qiskit[visualization]) (5.3.5)\n",
            "Requirement already satisfied: tornado>=4.0 in /usr/local/lib/python3.7/dist-packages (from ipykernel>=4.5.1->ipywidgets>=7.3.0->qiskit[visualization]) (5.1.1)\n",
            "Requirement already satisfied: prompt-toolkit<2.0.0,>=1.0.4 in /usr/local/lib/python3.7/dist-packages (from ipython>=4.0.0->ipywidgets>=7.3.0->qiskit[visualization]) (1.0.18)\n",
            "Requirement already satisfied: simplegeneric>0.8 in /usr/local/lib/python3.7/dist-packages (from ipython>=4.0.0->ipywidgets>=7.3.0->qiskit[visualization]) (0.8.1)\n",
            "Requirement already satisfied: decorator in /usr/local/lib/python3.7/dist-packages (from ipython>=4.0.0->ipywidgets>=7.3.0->qiskit[visualization]) (4.4.2)\n",
            "Requirement already satisfied: pexpect in /usr/local/lib/python3.7/dist-packages (from ipython>=4.0.0->ipywidgets>=7.3.0->qiskit[visualization]) (4.8.0)\n",
            "Requirement already satisfied: pickleshare in /usr/local/lib/python3.7/dist-packages (from ipython>=4.0.0->ipywidgets>=7.3.0->qiskit[visualization]) (0.7.5)\n",
            "Requirement already satisfied: pyparsing!=2.0.4,!=2.1.2,!=2.1.6,>=2.0.1 in /usr/local/lib/python3.7/dist-packages (from matplotlib>=2.1->qiskit[visualization]) (3.0.9)\n",
            "Requirement already satisfied: kiwisolver>=1.0.1 in /usr/local/lib/python3.7/dist-packages (from matplotlib>=2.1->qiskit[visualization]) (1.4.3)\n",
            "Requirement already satisfied: cycler>=0.10 in /usr/local/lib/python3.7/dist-packages (from matplotlib>=2.1->qiskit[visualization]) (0.11.0)\n",
            "Requirement already satisfied: typing-extensions in /usr/local/lib/python3.7/dist-packages (from kiwisolver>=1.0.1->matplotlib>=2.1->qiskit[visualization]) (4.1.1)\n",
            "Requirement already satisfied: jsonschema>=2.6 in /usr/local/lib/python3.7/dist-packages (from nbformat>=4.2.0->ipywidgets>=7.3.0->qiskit[visualization]) (4.3.3)\n",
            "Requirement already satisfied: jupyter-core in /usr/local/lib/python3.7/dist-packages (from nbformat>=4.2.0->ipywidgets>=7.3.0->qiskit[visualization]) (4.10.0)\n",
            "Requirement already satisfied: fastjsonschema in /usr/local/lib/python3.7/dist-packages (from nbformat>=4.2.0->ipywidgets>=7.3.0->qiskit[visualization]) (2.15.3)\n",
            "Requirement already satisfied: importlib-resources>=1.4.0 in /usr/local/lib/python3.7/dist-packages (from jsonschema>=2.6->nbformat>=4.2.0->ipywidgets>=7.3.0->qiskit[visualization]) (5.7.1)\n",
            "Requirement already satisfied: importlib-metadata in /usr/local/lib/python3.7/dist-packages (from jsonschema>=2.6->nbformat>=4.2.0->ipywidgets>=7.3.0->qiskit[visualization]) (4.11.4)\n",
            "Requirement already satisfied: attrs>=17.4.0 in /usr/local/lib/python3.7/dist-packages (from jsonschema>=2.6->nbformat>=4.2.0->ipywidgets>=7.3.0->qiskit[visualization]) (21.4.0)\n",
            "Requirement already satisfied: pyrsistent!=0.17.0,!=0.17.1,!=0.17.2,>=0.14.0 in /usr/local/lib/python3.7/dist-packages (from jsonschema>=2.6->nbformat>=4.2.0->ipywidgets>=7.3.0->qiskit[visualization]) (0.18.1)\n",
            "Requirement already satisfied: zipp>=3.1.0 in /usr/local/lib/python3.7/dist-packages (from importlib-resources>=1.4.0->jsonschema>=2.6->nbformat>=4.2.0->ipywidgets>=7.3.0->qiskit[visualization]) (3.8.0)\n",
            "Requirement already satisfied: wcwidth in /usr/local/lib/python3.7/dist-packages (from prompt-toolkit<2.0.0,>=1.0.4->ipython>=4.0.0->ipywidgets>=7.3.0->qiskit[visualization]) (0.2.5)\n",
            "Requirement already satisfied: six>=1.9.0 in /usr/local/lib/python3.7/dist-packages (from prompt-toolkit<2.0.0,>=1.0.4->ipython>=4.0.0->ipywidgets>=7.3.0->qiskit[visualization]) (1.15.0)\n",
            "Requirement already satisfied: certifi>=2017.4.17 in /usr/local/lib/python3.7/dist-packages (from requests>=2.19->qiskit-ibmq-provider==0.19.1->qiskit[visualization]) (2022.6.15)\n",
            "Requirement already satisfied: chardet<4,>=3.0.2 in /usr/local/lib/python3.7/dist-packages (from requests>=2.19->qiskit-ibmq-provider==0.19.1->qiskit[visualization]) (3.0.4)\n",
            "Requirement already satisfied: idna<3,>=2.5 in /usr/local/lib/python3.7/dist-packages (from requests>=2.19->qiskit-ibmq-provider==0.19.1->qiskit[visualization]) (2.10)\n",
            "Collecting cryptography>=1.3\n",
            "  Downloading cryptography-37.0.2-cp36-abi3-manylinux_2_24_x86_64.whl (4.0 MB)\n",
            "\u001b[K     |████████████████████████████████| 4.0 MB 36.6 MB/s \n",
            "\u001b[?25hCollecting ntlm-auth>=1.0.2\n",
            "  Downloading ntlm_auth-1.5.0-py2.py3-none-any.whl (29 kB)\n",
            "Requirement already satisfied: cffi>=1.12 in /usr/local/lib/python3.7/dist-packages (from cryptography>=1.3->requests-ntlm>=1.1.0->qiskit-ibmq-provider==0.19.1->qiskit[visualization]) (1.15.0)\n",
            "Requirement already satisfied: pycparser in /usr/local/lib/python3.7/dist-packages (from cffi>=1.12->cryptography>=1.3->requests-ntlm>=1.1.0->qiskit-ibmq-provider==0.19.1->qiskit[visualization]) (2.21)\n",
            "Requirement already satisfied: pandas>=0.23 in /usr/local/lib/python3.7/dist-packages (from seaborn>=0.9.0->qiskit[visualization]) (1.3.5)\n",
            "Requirement already satisfied: pytz>=2017.3 in /usr/local/lib/python3.7/dist-packages (from pandas>=0.23->seaborn>=0.9.0->qiskit[visualization]) (2022.1)\n",
            "Collecting pbr!=2.1.0,>=2.0.0\n",
            "  Downloading pbr-5.9.0-py2.py3-none-any.whl (112 kB)\n",
            "\u001b[K     |████████████████████████████████| 112 kB 48.3 MB/s \n",
            "\u001b[?25hRequirement already satisfied: mpmath>=0.19 in /usr/local/lib/python3.7/dist-packages (from sympy>=1.3->qiskit-terra==0.20.2->qiskit[visualization]) (1.2.1)\n",
            "Requirement already satisfied: notebook>=4.4.1 in /usr/local/lib/python3.7/dist-packages (from widgetsnbextension~=3.6.0->ipywidgets>=7.3.0->qiskit[visualization]) (5.3.1)\n",
            "Requirement already satisfied: nbconvert in /usr/local/lib/python3.7/dist-packages (from notebook>=4.4.1->widgetsnbextension~=3.6.0->ipywidgets>=7.3.0->qiskit[visualization]) (5.6.1)\n",
            "Requirement already satisfied: jinja2 in /usr/local/lib/python3.7/dist-packages (from notebook>=4.4.1->widgetsnbextension~=3.6.0->ipywidgets>=7.3.0->qiskit[visualization]) (2.11.3)\n",
            "Requirement already satisfied: terminado>=0.8.1 in /usr/local/lib/python3.7/dist-packages (from notebook>=4.4.1->widgetsnbextension~=3.6.0->ipywidgets>=7.3.0->qiskit[visualization]) (0.13.3)\n",
            "Requirement already satisfied: Send2Trash in /usr/local/lib/python3.7/dist-packages (from notebook>=4.4.1->widgetsnbextension~=3.6.0->ipywidgets>=7.3.0->qiskit[visualization]) (1.8.0)\n",
            "Requirement already satisfied: pyzmq>=13 in /usr/local/lib/python3.7/dist-packages (from jupyter-client->ipykernel>=4.5.1->ipywidgets>=7.3.0->qiskit[visualization]) (23.1.0)\n",
            "Requirement already satisfied: ptyprocess in /usr/local/lib/python3.7/dist-packages (from terminado>=0.8.1->notebook>=4.4.1->widgetsnbextension~=3.6.0->ipywidgets>=7.3.0->qiskit[visualization]) (0.7.0)\n",
            "Requirement already satisfied: MarkupSafe>=0.23 in /usr/local/lib/python3.7/dist-packages (from jinja2->notebook>=4.4.1->widgetsnbextension~=3.6.0->ipywidgets>=7.3.0->qiskit[visualization]) (2.0.1)\n",
            "Requirement already satisfied: entrypoints>=0.2.2 in /usr/local/lib/python3.7/dist-packages (from nbconvert->notebook>=4.4.1->widgetsnbextension~=3.6.0->ipywidgets>=7.3.0->qiskit[visualization]) (0.4)\n",
            "Requirement already satisfied: testpath in /usr/local/lib/python3.7/dist-packages (from nbconvert->notebook>=4.4.1->widgetsnbextension~=3.6.0->ipywidgets>=7.3.0->qiskit[visualization]) (0.6.0)\n",
            "Requirement already satisfied: mistune<2,>=0.8.1 in /usr/local/lib/python3.7/dist-packages (from nbconvert->notebook>=4.4.1->widgetsnbextension~=3.6.0->ipywidgets>=7.3.0->qiskit[visualization]) (0.8.4)\n",
            "Requirement already satisfied: bleach in /usr/local/lib/python3.7/dist-packages (from nbconvert->notebook>=4.4.1->widgetsnbextension~=3.6.0->ipywidgets>=7.3.0->qiskit[visualization]) (5.0.0)\n",
            "Requirement already satisfied: defusedxml in /usr/local/lib/python3.7/dist-packages (from nbconvert->notebook>=4.4.1->widgetsnbextension~=3.6.0->ipywidgets>=7.3.0->qiskit[visualization]) (0.7.1)\n",
            "Requirement already satisfied: pandocfilters>=1.4.1 in /usr/local/lib/python3.7/dist-packages (from nbconvert->notebook>=4.4.1->widgetsnbextension~=3.6.0->ipywidgets>=7.3.0->qiskit[visualization]) (1.5.0)\n",
            "Requirement already satisfied: webencodings in /usr/local/lib/python3.7/dist-packages (from bleach->nbconvert->notebook>=4.4.1->widgetsnbextension~=3.6.0->ipywidgets>=7.3.0->qiskit[visualization]) (0.5.1)\n",
            "Building wheels for collected packages: qiskit, pylatexenc, python-constraint\n",
            "  Building wheel for qiskit (setup.py) ... \u001b[?25l\u001b[?25hdone\n",
            "  Created wheel for qiskit: filename=qiskit-0.36.2-py3-none-any.whl size=11933 sha256=2e044124d27d9901a59c75891146ba4c49964e32927900d96256609f057a6547\n",
            "  Stored in directory: /root/.cache/pip/wheels/36/f7/83/e2755ad17aa35bc145fce34e184aaf394a265a978d95caaabf\n",
            "  Building wheel for pylatexenc (setup.py) ... \u001b[?25l\u001b[?25hdone\n",
            "  Created wheel for pylatexenc: filename=pylatexenc-2.10-py3-none-any.whl size=136835 sha256=db7f0d9f08860b3304bc6d4d668c8a33ac4a5b7bf3ddeda07efb6685721a75ea\n",
            "  Stored in directory: /root/.cache/pip/wheels/f1/8a/f5/33ee79d4473eb201b519fa40f989b842e373237395a3421f52\n",
            "  Building wheel for python-constraint (setup.py) ... \u001b[?25l\u001b[?25hdone\n",
            "  Created wheel for python-constraint: filename=python_constraint-1.4.0-py2.py3-none-any.whl size=24081 sha256=3d65882dd10987f6d55d6ce7c6b62294e12185b1a82496e9d5612d2fc3f631cc\n",
            "  Stored in directory: /root/.cache/pip/wheels/07/27/db/1222c80eb1e431f3d2199c12569cb1cac60f562a451fe30479\n",
            "Successfully built qiskit pylatexenc python-constraint\n",
            "Installing collected packages: pbr, tweedledum, symengine, stevedore, scipy, retworkx, python-constraint, ply, ntlm-auth, cryptography, websockets, websocket-client, requests-ntlm, qiskit-terra, qiskit-ignis, qiskit-ibmq-provider, qiskit-aer, qiskit, pylatexenc, pip\n",
            "  Attempting uninstall: scipy\n",
            "    Found existing installation: scipy 1.4.1\n",
            "    Uninstalling scipy-1.4.1:\n",
            "      Successfully uninstalled scipy-1.4.1\n",
            "  Attempting uninstall: pip\n",
            "    Found existing installation: pip 21.1.3\n",
            "    Uninstalling pip-21.1.3:\n",
            "      Successfully uninstalled pip-21.1.3\n",
            "\u001b[31mERROR: pip's dependency resolver does not currently take into account all the packages that are installed. This behaviour is the source of the following dependency conflicts.\n",
            "albumentations 0.1.12 requires imgaug<0.2.7,>=0.2.5, but you have imgaug 0.2.9 which is incompatible.\u001b[0m\n",
            "Successfully installed cryptography-37.0.2 ntlm-auth-1.5.0 pbr-5.9.0 pip-22.1.2 ply-3.11 pylatexenc-2.10 python-constraint-1.4.0 qiskit-0.36.2 qiskit-aer-0.10.4 qiskit-ibmq-provider-0.19.1 qiskit-ignis-0.7.1 qiskit-terra-0.20.2 requests-ntlm-1.1.0 retworkx-0.11.0 scipy-1.7.3 stevedore-3.5.0 symengine-0.9.2 tweedledum-1.1.1 websocket-client-1.3.3 websockets-10.3\n"
          ]
        }
      ],
      "source": [
        "!pip install -U pip qiskit[visualization]"
      ]
    },
    {
      "cell_type": "code",
      "execution_count": 2,
      "metadata": {
        "id": "FJUERx0mGvV7"
      },
      "outputs": [],
      "source": [
        "#!pip install qiskit-aer-gpu"
      ]
    },
    {
      "cell_type": "code",
      "execution_count": 3,
      "metadata": {
        "id": "e5fdX88pX2op"
      },
      "outputs": [],
      "source": [
        "import matplotlib.pyplot as plt\n",
        "%matplotlib inline\n",
        "\n",
        "# import os\n",
        "import time\n",
        "import numpy as np\n",
        "from numpy.random import default_rng\n",
        "\n",
        "import qiskit\n",
        "import pylatexenc\n",
        "from qiskit import QuantumCircuit, ClassicalRegister, QuantumRegister, execute\n",
        "from qiskit.extensions import Initialize\n",
        "from qiskit.algorithms import optimizers"
      ]
    },
    {
      "cell_type": "markdown",
      "metadata": {
        "id": "UiVGLmmJFcfn"
      },
      "source": [
        "### 1-2. Setting of the main hyper-parameters of the model"
      ]
    },
    {
      "cell_type": "code",
      "execution_count": 4,
      "metadata": {
        "id": "kISDupKdX2or"
      },
      "outputs": [],
      "source": [
        "BATCH_SIZE = 100\n",
        "n_qubits = 3\n",
        "n_params = 12\n",
        "n_shots = 1024\n",
        "iteration = 100\n",
        "n_epochs = 30\n",
        "n_layers = 1    # Number of random layers\n",
        "\n",
        "SAVE_PATH = \"aeqis/\" # Data saving folder\n",
        "seed = 2022\n",
        "np.random.seed(seed)        # Seed for NumPy random number generator\n",
        "rng = default_rng(seed)\n",
        "qiskit.utils.algorithm_globals.random_seed = seed\n",
        "\n",
        "isReal = False # 'True' for real device or 'False' for simulator\n",
        "use_gpu = False"
      ]
    },
    {
      "cell_type": "markdown",
      "metadata": {
        "id": "raQ2L0JcMJOk"
      },
      "source": [
        "## 2. Construct Quantum Circuit"
      ]
    },
    {
      "cell_type": "markdown",
      "metadata": {
        "id": "vEh2kUQecHcG"
      },
      "source": [
        "### 2-1. One Qubit Unitary Circuit "
      ]
    },
    {
      "cell_type": "code",
      "execution_count": 5,
      "metadata": {
        "colab": {
          "base_uri": "https://localhost:8080/",
          "height": 36
        },
        "id": "ASW-7WmjcOQW",
        "outputId": "8c03b88d-ce45-4149-9e22-ca337350114b"
      },
      "outputs": [
        {
          "output_type": "execute_result",
          "data": {
            "text/plain": [
              "\"\\nparams = np.arange(0, 3)\\none_qubit_unitary(params, 0).draw(output='mpl')\\n\""
            ],
            "application/vnd.google.colaboratory.intrinsic+json": {
              "type": "string"
            }
          },
          "metadata": {},
          "execution_count": 5
        }
      ],
      "source": [
        "def one_qubit_unitary(params, wire):  # need 3 parameters\n",
        "  circ = QuantumCircuit(n_qubits, 1, name = '1 Qubit Unitary')\n",
        "\n",
        "  circ.rx(params[0],wire)\n",
        "  circ.ry(params[1],wire)\n",
        "  circ.rz(params[2],wire)\n",
        "  \n",
        "  return circ\n",
        "\n",
        "'''\n",
        "params = np.arange(0, 3)\n",
        "one_qubit_unitary(params, 0).draw(output='mpl')\n",
        "'''"
      ]
    },
    {
      "cell_type": "markdown",
      "metadata": {
        "id": "9Tbi_OvzqNbm"
      },
      "source": [
        "### 2-2. Two Qubits Unitary Circuit"
      ]
    },
    {
      "cell_type": "code",
      "execution_count": 6,
      "metadata": {
        "colab": {
          "base_uri": "https://localhost:8080/",
          "height": 36
        },
        "id": "yMfkWw-ZqRQ7",
        "outputId": "5f3df13b-7a54-4c86-a1b6-d3f7e93976ff"
      },
      "outputs": [
        {
          "output_type": "execute_result",
          "data": {
            "text/plain": [
              "\"\\nparams = np.arange(0, 15)\\ntwo_qubit_unitary(params, [0,1]).draw(output='mpl')\\n\""
            ],
            "application/vnd.google.colaboratory.intrinsic+json": {
              "type": "string"
            }
          },
          "metadata": {},
          "execution_count": 6
        }
      ],
      "source": [
        "def two_qubit_unitary(params, wires):  # need 3 parameters\n",
        "  circ = QuantumCircuit(n_qubits, 1, name = '2 Qubit Unitary')\n",
        "  '''\n",
        "  circ.compose(one_qubit_unitary(params[0:3], wires[0]), inplace=True)\n",
        "  circ.compose(one_qubit_unitary(params[3:6], wires[1]), inplace=True)\n",
        "  circ.rzz(params[6], wires[0], wires[1])\n",
        "  circ.ryy(params[7], wires[0], wires[1])\n",
        "  circ.rxx(params[8], wires[0], wires[1])\n",
        "  '''\n",
        "  circ.rzz(params[0], wires[0], wires[1])\n",
        "  circ.ryy(params[1], wires[0], wires[1])\n",
        "  circ.rxx(params[2], wires[0], wires[1])\n",
        "  #circ.compose(one_qubit_unitary(params[9:12], wires[0]), inplace=True)\n",
        "  #circ.compose(one_qubit_unitary(params[12:15], wires[1]), inplace=True)\n",
        "  circ.barrier()\n",
        "\n",
        "  return circ\n",
        "\n",
        "'''\n",
        "params = np.arange(0, 15)\n",
        "two_qubit_unitary(params, [0,1]).draw(output='mpl')\n",
        "'''"
      ]
    },
    {
      "cell_type": "markdown",
      "metadata": {
        "id": "lTRXDKEy4hlr"
      },
      "source": [
        "### 2-3. Decoder Circuit"
      ]
    },
    {
      "cell_type": "code",
      "execution_count": 7,
      "metadata": {
        "colab": {
          "base_uri": "https://localhost:8080/",
          "height": 36
        },
        "id": "Idxr-oAb4l1F",
        "outputId": "7f0451c5-ba65-47c2-bfae-b317fd0e61c4"
      },
      "outputs": [
        {
          "output_type": "execute_result",
          "data": {
            "text/plain": [
              "\"\\nparams = np.arange(0, 12)\\ndecoder(params, [0,1,2]).draw(output='mpl')\\n\""
            ],
            "application/vnd.google.colaboratory.intrinsic+json": {
              "type": "string"
            }
          },
          "metadata": {},
          "execution_count": 7
        }
      ],
      "source": [
        "def decoder(params, wires):  # need 12 parameters\n",
        "  dec = QuantumCircuit(n_qubits, 1, name = '3 Qubit Unitary')\n",
        "  dec.compose(one_qubit_unitary(params[0:3], [wires[0]]), inplace=True)\n",
        "  dec.compose(one_qubit_unitary(params[3:6], [wires[1]]), inplace=True)\n",
        "  dec.compose(one_qubit_unitary(params[6:9], [wires[2]]), inplace=True)\n",
        "\n",
        "  dec.barrier()\n",
        "\n",
        "  dec.compose(two_qubit_unitary(params[9:12], [wires[0],wires[1]]), inplace=True)\n",
        "  dec.compose(two_qubit_unitary(params[9:12], [wires[1],wires[2]]), inplace=True)\n",
        "  dec.compose(two_qubit_unitary(params[9:12], [wires[0],wires[2]]), inplace=True)\n",
        "\n",
        "  dec.cx(wires[0], wires[1])\n",
        "  dec.cx(wires[2], wires[1])\n",
        "  #dec.barrier()\n",
        "\n",
        "  #dec.measure(n_qubits//2, 0)   \n",
        "  #circ.barrier()\n",
        "\n",
        "  return dec\n",
        "\n",
        "'''\n",
        "params = np.arange(0, 12)\n",
        "decoder(params, [0,1,2]).draw(output='mpl')\n",
        "'''"
      ]
    },
    {
      "cell_type": "markdown",
      "metadata": {
        "id": "CSXSJxNH7oJX"
      },
      "source": [
        "### 2-4. Encoder Circuit"
      ]
    },
    {
      "cell_type": "code",
      "execution_count": 8,
      "metadata": {
        "colab": {
          "base_uri": "https://localhost:8080/",
          "height": 36
        },
        "id": "BUwZ6ZhB7wcj",
        "outputId": "8e7d219a-f3a9-446d-ed05-9eeb06a2cbdd"
      },
      "outputs": [
        {
          "output_type": "execute_result",
          "data": {
            "text/plain": [
              "\"\\n# visualizing Encoder to check\\nparams = np.arange(0, 12)\\nencoder(decoder(params, np.arange(0,3))).draw(output='mpl')\\n\""
            ],
            "application/vnd.google.colaboratory.intrinsic+json": {
              "type": "string"
            }
          },
          "metadata": {},
          "execution_count": 8
        }
      ],
      "source": [
        "# Defining Encoder circuit. Encoder is inversion of Decoder.\n",
        "def encoder(decoder):\n",
        "    enc = QuantumCircuit(n_qubits, 1, name = 'Encoder')\n",
        "    enc = decoder.inverse()\n",
        "    \n",
        "    return enc\n",
        "\n",
        "'''\n",
        "# visualizing Encoder to check\n",
        "params = np.arange(0, 12)\n",
        "encoder(decoder(params, np.arange(0,3))).draw(output='mpl')\n",
        "'''"
      ]
    },
    {
      "cell_type": "markdown",
      "metadata": {
        "id": "4rcyW7GO1PYo"
      },
      "source": [
        "### 2-5. Noise Model"
      ]
    },
    {
      "cell_type": "code",
      "execution_count": 44,
      "metadata": {
        "id": "MzGxixuw1bfn"
      },
      "outputs": [],
      "source": [
        "'''\n",
        "circ = QuantumCircuit(3,1)\n",
        "x_p = 0.2\n",
        "z_p= 0.3\n",
        "xz_p = 0.5\n",
        "'''\n",
        "\n",
        "def noise_circuit(type):\n",
        "    circ = QuantumCircuit(n_qubits,1)\n",
        "    #p = x_p + z_p + xz_p\n",
        "    #print(f\"bit flip 확률:{x_p}\\nphase flip 확률:{z_p}\\nbit and phase flip 확률 :{xz_p},\\nIdentitiy(non error):{1-p}\")\n",
        "    \n",
        "    #a = rng.choice(np.arange(1, 5), p=[x_p, z_p, xz_p,1-p ])\n",
        "    if type == 1:\n",
        "        circ.x(1)\n",
        "    elif type == 2:\n",
        "        circ.z(1)\n",
        "    elif type == 3:\n",
        "        circ.x(1)\n",
        "        circ.z(1)\n",
        "    elif type == -1:\n",
        "        pass\n",
        "    return circ\n",
        "\n",
        "def noise_circuit_m(type):\n",
        "  circ = QuantumCircuit(n_qubits,1)\n",
        "    #p = x_p + z_p + xz_p\n",
        "    #print(f\"bit flip 확률:{x_p}\\nphase flip 확률:{z_p}\\nbit and phase flip 확률 :{xz_p},\\nIdentitiy(non error):{1-p}\")\n",
        "    \n",
        "    #a = rng.choice(np.arange(1, 5), p=[x_p, z_p, xz_p,1-p ])\n",
        "  if type == 1:\n",
        "    circ.x(1)\n",
        "  elif type == 2:\n",
        "    circ.z(1)\n",
        "  elif type == 3:\n",
        "    circ.x(1)\n",
        "    circ.z(1)\n",
        "  elif type == -1:\n",
        "    pass\n",
        "  circ.measure(1,0)\n",
        "\n",
        "  return circ\n",
        "\n",
        "#random_circuit(1,x_p,z_p,xz_p).draw()"
      ]
    },
    {
      "cell_type": "markdown",
      "metadata": {
        "id": "vSC-J_T59G1h"
      },
      "source": [
        "### 2-6. Complete Circuit"
      ]
    },
    {
      "cell_type": "code",
      "execution_count": 27,
      "metadata": {
        "colab": {
          "base_uri": "https://localhost:8080/",
          "height": 54
        },
        "id": "0fP9lLeF9I0n",
        "outputId": "cc9c457b-ad65-4853-fc3b-2a90780ee2aa"
      },
      "outputs": [
        {
          "output_type": "execute_result",
          "data": {
            "text/plain": [
              "\"\\nparams = np.arange(0, 15)\\nwires = np.arange(0,n_qubits)\\ninitial_state = [0, 1]\\ninput_state = Initialize(initial_state)\\nqae(params, wires, input_state, 1).draw(output='mpl')\\n\""
            ],
            "application/vnd.google.colaboratory.intrinsic+json": {
              "type": "string"
            }
          },
          "metadata": {},
          "execution_count": 27
        }
      ],
      "source": [
        "def qae(params, wires, input_state, error_qubit, noise_type):  # need 90 parameters\n",
        "  qc = QuantumCircuit(n_qubits, 1, name = 'Quantum Autoencoder')\n",
        "  qc.append(input_state, [n_qubits//2])\n",
        "  qc.barrier()\n",
        "\n",
        "  dec = decoder(params, np.arange(0,n_qubits))\n",
        "  qc.compose(encoder(dec), inplace=True)\n",
        "\n",
        "  # Add noise\n",
        "  # qc.barrier()\n",
        "  # qc += noisemodel(error_qubit)\n",
        "  \n",
        "  qc.barrier()\n",
        "  qc.compose(noise_circuit(noise_type),inplace=True)\n",
        "  qc.barrier()\n",
        "  \n",
        "  qc.compose(dec, inplace=True)\n",
        "\n",
        "  qc.barrier()\n",
        "  #qc.measure(np.arange(0,9), np.arange(0,9))\n",
        "  qc.measure(n_qubits//2,0)\n",
        "\n",
        "  return qc\n",
        "\n",
        "'''\n",
        "params = np.arange(0, 15)\n",
        "wires = np.arange(0,n_qubits)\n",
        "initial_state = [0, 1]\n",
        "input_state = Initialize(initial_state)\n",
        "qae(params, wires, input_state, 1).draw(output='mpl')\n",
        "'''"
      ]
    },
    {
      "cell_type": "markdown",
      "metadata": {
        "id": "NWcNoEjwpxHR"
      },
      "source": [
        "## 3. Validate"
      ]
    },
    {
      "cell_type": "markdown",
      "metadata": {
        "id": "czZHrcpdfLrS"
      },
      "source": [
        "### 3-1. Generalize Output"
      ]
    },
    {
      "cell_type": "code",
      "execution_count": 11,
      "metadata": {
        "id": "Bj-7Nbg7fjJn"
      },
      "outputs": [],
      "source": [
        "def gen_states(output_state, target_state):\n",
        "  '''\n",
        "  alpha = 0\n",
        "  for i in range(16):\n",
        "    alpha += np.sum(np.power([abs(output_state[32*i+j]) for j in range(16)],2))\n",
        "  alpha = np.sqrt(alpha)\n",
        "    \n",
        "  if alpha == 0:\n",
        "    for i in range(16):\n",
        "      beta += np.power([abs(output_state[32*i+16+j]) for j in range(16)], 2)\n",
        "    beta = np.sqrt(beta)\n",
        "\n",
        "  else:\n",
        "    pseudo_alpha = 0\n",
        "    for i in range(16):\n",
        "      beta += np.sum([output_state[32*i+16+j] for j in range(16)])\n",
        "      pseudo_alpha += np.sum([output_state[32*i+j] for j in range(16)])\n",
        "    beta = beta / pseudo_alpha * alpha\n",
        "    '''\n",
        "  alpha = output_state['0'] / (output_state['0'] + output_state['1'])\n",
        "  beta = output_state['1'] / (output_state['0'] + output_state['1'])\n",
        "    \n",
        "  a, b = target_state[0], target_state[1]\n",
        "  a = np.power(a,2) / (np.power(a,2) + np.power(b,2))\n",
        "  b = np.power(b,2) / (np.power(a,2) + np.power(b,2))\n",
        "    \n",
        "  return np.array([alpha, beta]), np.array([a, b])"
      ]
    },
    {
      "cell_type": "markdown",
      "metadata": {
        "id": "SCN9H8VG3J59"
      },
      "source": [
        "### 3-2. Configuring Qiskit Backend"
      ]
    },
    {
      "cell_type": "code",
      "execution_count": 12,
      "metadata": {
        "id": "rMCV_ZWaZNxB"
      },
      "outputs": [],
      "source": [
        "if isReal:\n",
        "  #from qiskit.providers.ibmq\n",
        "  backend = qml.device(\"qiskit.ibmq\", wires=n_qubits)\n",
        "else:\n",
        "  from qiskit.providers.aer import AerSimulator\n",
        "  #backend = AerSimulator(method='statevector')\n",
        "  from qiskit import Aer\n",
        "  backend = AerSimulator(method=\"statevector\")\n",
        "  if use_gpu:\n",
        "    #backend.available_devices()\n",
        "    backend.set_options(device='GPU')"
      ]
    },
    {
      "cell_type": "markdown",
      "metadata": {
        "id": "Vq4H9BBQNzLg"
      },
      "source": [
        "### 3-3. Import Pre-trained Parameters"
      ]
    },
    {
      "cell_type": "code",
      "execution_count": 18,
      "metadata": {
        "colab": {
          "base_uri": "https://localhost:8080/"
        },
        "id": "-oFJ5VtPN2BE",
        "outputId": "aee48f61-eba5-4403-d369-4d9511616a98"
      },
      "outputs": [
        {
          "output_type": "stream",
          "name": "stdout",
          "text": [
            "Parameters:\n",
            "[8.27639096, 5.51790211, 5.7056979, 1.4326275, 3.1257751, 5.64625242, 7.08448521, 6.45104003, 5.53609478, 5.57675776, 5.51595093, 5.64295498]\n"
          ]
        }
      ],
      "source": [
        "params = [8.27639096, 5.51790211, 5.7056979, 1.4326275, 3.1257751, 5.64625242,\n",
        "                  7.08448521, 6.45104003, 5.53609478, 5.57675776, 5.51595093, 5.64295498]\n",
        "\n",
        "print(\"Parameters:\")\n",
        "print(initial_params)"
      ]
    },
    {
      "cell_type": "markdown",
      "source": [
        "### 3-4. Get Counts"
      ],
      "metadata": {
        "id": "EoG1OTrT17NO"
      }
    },
    {
      "cell_type": "code",
      "source": [
        "inputs = [Initialize([1,0]),Initialize([0,1])]\n",
        "\n",
        "result = {'0':0, '1':0}\n",
        "noise = {'0':0, '1':0}\n",
        "\n",
        "for input in inputs:\n",
        "  qc_x = qae(params, np.arange(0,n_qubits), input, 1, 1)\n",
        "  qc_z = qae(params, np.arange(0,n_qubits), input, 1, 2)\n",
        "  qc_xz = qae(params, np.arange(0,n_qubits), input, 1, 3)\n",
        "\n",
        "  noise_x = noise_circuit_m(1)\n",
        "  noise_z = noise_circuit_m(2)\n",
        "  noise_xz = noise_circuit_m(3)\n",
        "\n",
        "  # Execute the quantum circuit to obtain the probability distribution associated with the current parameters\n",
        "  result_x = execute(qc_x, backend).result()\n",
        "  output_x = result_x.get_counts()\n",
        "  if '0' in output_x:\n",
        "    result['0'] += output_x['0'] * 2\n",
        "  if '1' in output_x:\n",
        "    result['1'] += output_x['1'] *2\n",
        "  error_x = execute(noise_x, backend).result().get_counts()\n",
        "  if '0' in error_x:\n",
        "    noise['0'] += error_x['0'] * 2\n",
        "  if '1' in error_x:\n",
        "    noise['1'] += error_x['1'] * 2\n",
        "\n",
        "  result_z = execute(qc_z, backend).result()\n",
        "  output_z = result_z.get_counts()\n",
        "  if '0' in output_z:\n",
        "    result['0'] += output_z['0'] * 3\n",
        "  if '1' in output_z:\n",
        "    result['1'] += output_z['1'] * 3\n",
        "  error_z = execute(noise_z, backend).result().get_counts()\n",
        "  if '0' in error_z:\n",
        "    noise['0'] += error_z['0'] * 3\n",
        "  if '1' in error_z:\n",
        "    noise['1'] += error_z['1'] * 3\n",
        "\n",
        "  result_xz = execute(qc_xz, backend).result()\n",
        "  output_xz = result_xz.get_counts()\n",
        "  result['0'] += output_xz['0']\n",
        "  if '0' in output_xz:\n",
        "    result['0'] += output_xz['0'] * 5\n",
        "  if '1' in output_xz:\n",
        "    result['1'] += output_xz['1'] * 5\n",
        "  error_xz = execute(noise_xz, backend).result().get_counts()\n",
        "  if '0' in error_xz:\n",
        "    noise['0'] += error_xz['0'] * 5\n",
        "  if '1' in error_xz:\n",
        "    noise['1'] += error_xz['1'] * 5"
      ],
      "metadata": {
        "id": "2fZlSGsv19yl"
      },
      "execution_count": 76,
      "outputs": []
    },
    {
      "cell_type": "markdown",
      "metadata": {
        "id": "fFVTRZfGOyGk"
      },
      "source": [
        "## 4. Plot Results for Comparison"
      ]
    },
    {
      "cell_type": "code",
      "execution_count": 77,
      "metadata": {
        "id": "SEPbLfE9O1L8",
        "colab": {
          "base_uri": "https://localhost:8080/",
          "height": 827
        },
        "outputId": "7282c616-ab0d-44d1-a7fd-4eed99eca87f"
      },
      "outputs": [
        {
          "output_type": "display_data",
          "data": {
            "text/plain": [
              "<Figure size 432x288 with 1 Axes>"
            ],
            "image/png": "[encoded data removed]"
          },
          "metadata": {
            "needs_background": "light"
          }
        },
        {
          "output_type": "display_data",
          "data": {
            "text/plain": [
              "<Figure size 432x288 with 1 Axes>"
            ],
            "image/png": "[encoded data removed]"
          },
          "metadata": {
            "needs_background": "light"
          }
        },
        {
          "output_type": "display_data",
          "data": {
            "text/plain": [
              "<Figure size 432x288 with 1 Axes>"
            ],
            "image/png": "[encoded data removed]"
          },
          "metadata": {
            "needs_background": "light"
          }
        },
        {
          "output_type": "display_data",
          "data": {
            "text/plain": [
              "<Figure size 432x288 with 0 Axes>"
            ]
          },
          "metadata": {}
        }
      ],
      "source": [
        "# function to plot results for comparison \n",
        "def plot_result(result, noise, ideal):\n",
        "    plt.bar(noise.keys(),noise.values(), width=0.5, color='r')\n",
        "    plt.title('No QEC')\n",
        "    plt.figure()\n",
        "\n",
        "    plt.bar(result.keys(), result.values(), width=0.5, color='g')\n",
        "    plt.title('With QEC')\n",
        "    plt.figure()\n",
        "\n",
        "    plt.bar(ideal.keys(), ideal.values(), width=0.5, color='b')\n",
        "    plt.title('Ideal(No Error)')\n",
        "    plt.figure()\n",
        "\n",
        "    plt.show()\n",
        "\n",
        "plot_result(result, noise, {'0':10240, '1':10240})"
      ]
    }
  ],
  "metadata": {
    "colab": {
      "collapsed_sections": [],
      "name": "3_qubit_qcnn_ae_infer.ipynb",
      "provenance": []
    },
    "gpuClass": "standard",
    "interpreter": {
      "hash": "752579dbebe7f4dfe7c1aa72eac13e23fc88be2cc1ea7ab14e1f8d69b2d97d12"
    },
    "kernelspec": {
      "display_name": "Python 3.8.5 64-bit ('3.8')",
      "name": "python3"
    },
    "language_info": {
      "codemirror_mode": {
        "name": "ipython",
        "version": 3
      },
      "file_extension": ".py",
      "mimetype": "text/x-python",
      "name": "python",
      "nbconvert_exporter": "python",
      "pygments_lexer": "ipython3",
      "version": "3.8.5"
    }
  },
  "nbformat": 4,
  "nbformat_minor": 0
}