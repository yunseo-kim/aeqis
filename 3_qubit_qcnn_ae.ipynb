{
  "nbformat": 4,
  "nbformat_minor": 0,
  "metadata": {
    "colab": {
      "name": "3_qubit_qcnn_ae.ipynb",
      "provenance": [],
      "collapsed_sections": []
    },
    "interpreter": {
      "hash": "752579dbebe7f4dfe7c1aa72eac13e23fc88be2cc1ea7ab14e1f8d69b2d97d12"
    },
    "kernelspec": {
      "display_name": "Python 3.8.5 64-bit ('3.8')",
      "name": "python3"
    },
    "language_info": {
      "codemirror_mode": {
        "name": "ipython",
        "version": 3
      },
      "file_extension": ".py",
      "mimetype": "text/x-python",
      "name": "python",
      "nbconvert_exporter": "python",
      "pygments_lexer": "ipython3",
      "version": "3.8.5"
    },
    "orig_nbformat": 4,
    "gpuClass": "standard"
  },
  "cells": [
    {
      "cell_type": "markdown",
      "metadata": {
        "id": "NWGbvrK5Ej0E"
      },
      "source": [
        "## 1. Module Import and Hyper-parameters Setting"
      ]
    },
    {
      "cell_type": "markdown",
      "metadata": {
        "id": "leBa4O5SE2Qd"
      },
      "source": [
        "### 1-1. Setup & Module Import"
      ]
    },
    {
      "cell_type": "code",
      "metadata": {
        "colab": {
          "base_uri": "https://localhost:8080/"
        },
        "id": "CBH5ggGT_R45",
        "outputId": "78b7ae39-bbcb-41dc-d48a-a253a774463f"
      },
      "source": [
        "!pip install -U pip qiskit[visualization]"
      ],
      "execution_count": 1,
      "outputs": [
        {
          "output_type": "stream",
          "name": "stdout",
          "text": [
            "Looking in indexes: https://pypi.org/simple, https://us-python.pkg.dev/colab-wheels/public/simple/\n",
            "Requirement already satisfied: pip in /usr/local/lib/python3.7/dist-packages (22.1.2)\n",
            "Requirement already satisfied: qiskit[visualization] in /usr/local/lib/python3.7/dist-packages (0.36.2)\n",
            "Requirement already satisfied: qiskit-terra==0.20.2 in /usr/local/lib/python3.7/dist-packages (from qiskit[visualization]) (0.20.2)\n",
            "Requirement already satisfied: qiskit-ibmq-provider==0.19.1 in /usr/local/lib/python3.7/dist-packages (from qiskit[visualization]) (0.19.1)\n",
            "Requirement already satisfied: qiskit-ignis==0.7.1 in /usr/local/lib/python3.7/dist-packages (from qiskit[visualization]) (0.7.1)\n",
            "Requirement already satisfied: qiskit-aer==0.10.4 in /usr/local/lib/python3.7/dist-packages (from qiskit[visualization]) (0.10.4)\n",
            "Requirement already satisfied: pylatexenc>=1.4 in /usr/local/lib/python3.7/dist-packages (from qiskit[visualization]) (2.10)\n",
            "Requirement already satisfied: pygments>=2.4 in /usr/local/lib/python3.7/dist-packages (from qiskit[visualization]) (2.6.1)\n",
            "Requirement already satisfied: matplotlib>=2.1 in /usr/local/lib/python3.7/dist-packages (from qiskit[visualization]) (3.2.2)\n",
            "Requirement already satisfied: pillow>=4.2.1 in /usr/local/lib/python3.7/dist-packages (from qiskit[visualization]) (7.1.2)\n",
            "Requirement already satisfied: pydot in /usr/local/lib/python3.7/dist-packages (from qiskit[visualization]) (1.3.0)\n",
            "Requirement already satisfied: ipywidgets>=7.3.0 in /usr/local/lib/python3.7/dist-packages (from qiskit[visualization]) (7.7.0)\n",
            "Requirement already satisfied: seaborn>=0.9.0 in /usr/local/lib/python3.7/dist-packages (from qiskit[visualization]) (0.11.2)\n",
            "Requirement already satisfied: scipy>=1.0 in /usr/local/lib/python3.7/dist-packages (from qiskit-aer==0.10.4->qiskit[visualization]) (1.7.3)\n",
            "Requirement already satisfied: numpy>=1.16.3 in /usr/local/lib/python3.7/dist-packages (from qiskit-aer==0.10.4->qiskit[visualization]) (1.21.6)\n",
            "Requirement already satisfied: requests>=2.19 in /usr/local/lib/python3.7/dist-packages (from qiskit-ibmq-provider==0.19.1->qiskit[visualization]) (2.23.0)\n",
            "Requirement already satisfied: urllib3>=1.21.1 in /usr/local/lib/python3.7/dist-packages (from qiskit-ibmq-provider==0.19.1->qiskit[visualization]) (1.24.3)\n",
            "Requirement already satisfied: python-dateutil>=2.8.0 in /usr/local/lib/python3.7/dist-packages (from qiskit-ibmq-provider==0.19.1->qiskit[visualization]) (2.8.2)\n",
            "Requirement already satisfied: requests-ntlm>=1.1.0 in /usr/local/lib/python3.7/dist-packages (from qiskit-ibmq-provider==0.19.1->qiskit[visualization]) (1.1.0)\n",
            "Requirement already satisfied: websockets>=10.0 in /usr/local/lib/python3.7/dist-packages (from qiskit-ibmq-provider==0.19.1->qiskit[visualization]) (10.3)\n",
            "Requirement already satisfied: websocket-client>=1.0.1 in /usr/local/lib/python3.7/dist-packages (from qiskit-ibmq-provider==0.19.1->qiskit[visualization]) (1.3.3)\n",
            "Requirement already satisfied: setuptools>=40.1.0 in /usr/local/lib/python3.7/dist-packages (from qiskit-ignis==0.7.1->qiskit[visualization]) (57.4.0)\n",
            "Requirement already satisfied: retworkx>=0.8.0 in /usr/local/lib/python3.7/dist-packages (from qiskit-ignis==0.7.1->qiskit[visualization]) (0.11.0)\n",
            "Requirement already satisfied: sympy>=1.3 in /usr/local/lib/python3.7/dist-packages (from qiskit-terra==0.20.2->qiskit[visualization]) (1.7.1)\n",
            "Requirement already satisfied: python-constraint>=1.4 in /usr/local/lib/python3.7/dist-packages (from qiskit-terra==0.20.2->qiskit[visualization]) (1.4.0)\n",
            "Requirement already satisfied: tweedledum<2.0,>=1.1 in /usr/local/lib/python3.7/dist-packages (from qiskit-terra==0.20.2->qiskit[visualization]) (1.1.1)\n",
            "Requirement already satisfied: symengine>=0.9 in /usr/local/lib/python3.7/dist-packages (from qiskit-terra==0.20.2->qiskit[visualization]) (0.9.2)\n",
            "Requirement already satisfied: dill>=0.3 in /usr/local/lib/python3.7/dist-packages (from qiskit-terra==0.20.2->qiskit[visualization]) (0.3.5.1)\n",
            "Requirement already satisfied: psutil>=5 in /usr/local/lib/python3.7/dist-packages (from qiskit-terra==0.20.2->qiskit[visualization]) (5.4.8)\n",
            "Requirement already satisfied: stevedore>=3.0.0 in /usr/local/lib/python3.7/dist-packages (from qiskit-terra==0.20.2->qiskit[visualization]) (3.5.0)\n",
            "Requirement already satisfied: ply>=3.10 in /usr/local/lib/python3.7/dist-packages (from qiskit-terra==0.20.2->qiskit[visualization]) (3.11)\n",
            "Requirement already satisfied: widgetsnbextension~=3.6.0 in /usr/local/lib/python3.7/dist-packages (from ipywidgets>=7.3.0->qiskit[visualization]) (3.6.0)\n",
            "Requirement already satisfied: traitlets>=4.3.1 in /usr/local/lib/python3.7/dist-packages (from ipywidgets>=7.3.0->qiskit[visualization]) (5.1.1)\n",
            "Requirement already satisfied: jupyterlab-widgets>=1.0.0 in /usr/local/lib/python3.7/dist-packages (from ipywidgets>=7.3.0->qiskit[visualization]) (1.1.0)\n",
            "Requirement already satisfied: nbformat>=4.2.0 in /usr/local/lib/python3.7/dist-packages (from ipywidgets>=7.3.0->qiskit[visualization]) (5.4.0)\n",
            "Requirement already satisfied: ipython-genutils~=0.2.0 in /usr/local/lib/python3.7/dist-packages (from ipywidgets>=7.3.0->qiskit[visualization]) (0.2.0)\n",
            "Requirement already satisfied: ipython>=4.0.0 in /usr/local/lib/python3.7/dist-packages (from ipywidgets>=7.3.0->qiskit[visualization]) (5.5.0)\n",
            "Requirement already satisfied: ipykernel>=4.5.1 in /usr/local/lib/python3.7/dist-packages (from ipywidgets>=7.3.0->qiskit[visualization]) (4.10.1)\n",
            "Requirement already satisfied: kiwisolver>=1.0.1 in /usr/local/lib/python3.7/dist-packages (from matplotlib>=2.1->qiskit[visualization]) (1.4.3)\n",
            "Requirement already satisfied: cycler>=0.10 in /usr/local/lib/python3.7/dist-packages (from matplotlib>=2.1->qiskit[visualization]) (0.11.0)\n",
            "Requirement already satisfied: pyparsing!=2.0.4,!=2.1.2,!=2.1.6,>=2.0.1 in /usr/local/lib/python3.7/dist-packages (from matplotlib>=2.1->qiskit[visualization]) (3.0.9)\n",
            "Requirement already satisfied: pandas>=0.23 in /usr/local/lib/python3.7/dist-packages (from seaborn>=0.9.0->qiskit[visualization]) (1.3.5)\n",
            "Requirement already satisfied: tornado>=4.0 in /usr/local/lib/python3.7/dist-packages (from ipykernel>=4.5.1->ipywidgets>=7.3.0->qiskit[visualization]) (5.1.1)\n",
            "Requirement already satisfied: jupyter-client in /usr/local/lib/python3.7/dist-packages (from ipykernel>=4.5.1->ipywidgets>=7.3.0->qiskit[visualization]) (5.3.5)\n",
            "Requirement already satisfied: prompt-toolkit<2.0.0,>=1.0.4 in /usr/local/lib/python3.7/dist-packages (from ipython>=4.0.0->ipywidgets>=7.3.0->qiskit[visualization]) (1.0.18)\n",
            "Requirement already satisfied: decorator in /usr/local/lib/python3.7/dist-packages (from ipython>=4.0.0->ipywidgets>=7.3.0->qiskit[visualization]) (4.4.2)\n",
            "Requirement already satisfied: simplegeneric>0.8 in /usr/local/lib/python3.7/dist-packages (from ipython>=4.0.0->ipywidgets>=7.3.0->qiskit[visualization]) (0.8.1)\n",
            "Requirement already satisfied: pexpect in /usr/local/lib/python3.7/dist-packages (from ipython>=4.0.0->ipywidgets>=7.3.0->qiskit[visualization]) (4.8.0)\n",
            "Requirement already satisfied: pickleshare in /usr/local/lib/python3.7/dist-packages (from ipython>=4.0.0->ipywidgets>=7.3.0->qiskit[visualization]) (0.7.5)\n",
            "Requirement already satisfied: typing-extensions in /usr/local/lib/python3.7/dist-packages (from kiwisolver>=1.0.1->matplotlib>=2.1->qiskit[visualization]) (4.1.1)\n",
            "Requirement already satisfied: jsonschema>=2.6 in /usr/local/lib/python3.7/dist-packages (from nbformat>=4.2.0->ipywidgets>=7.3.0->qiskit[visualization]) (4.3.3)\n",
            "Requirement already satisfied: jupyter-core in /usr/local/lib/python3.7/dist-packages (from nbformat>=4.2.0->ipywidgets>=7.3.0->qiskit[visualization]) (4.10.0)\n",
            "Requirement already satisfied: fastjsonschema in /usr/local/lib/python3.7/dist-packages (from nbformat>=4.2.0->ipywidgets>=7.3.0->qiskit[visualization]) (2.15.3)\n",
            "Requirement already satisfied: pytz>=2017.3 in /usr/local/lib/python3.7/dist-packages (from pandas>=0.23->seaborn>=0.9.0->qiskit[visualization]) (2022.1)\n",
            "Requirement already satisfied: six>=1.5 in /usr/local/lib/python3.7/dist-packages (from python-dateutil>=2.8.0->qiskit-ibmq-provider==0.19.1->qiskit[visualization]) (1.15.0)\n",
            "Requirement already satisfied: idna<3,>=2.5 in /usr/local/lib/python3.7/dist-packages (from requests>=2.19->qiskit-ibmq-provider==0.19.1->qiskit[visualization]) (2.10)\n",
            "Requirement already satisfied: chardet<4,>=3.0.2 in /usr/local/lib/python3.7/dist-packages (from requests>=2.19->qiskit-ibmq-provider==0.19.1->qiskit[visualization]) (3.0.4)\n",
            "Requirement already satisfied: certifi>=2017.4.17 in /usr/local/lib/python3.7/dist-packages (from requests>=2.19->qiskit-ibmq-provider==0.19.1->qiskit[visualization]) (2022.6.15)\n",
            "Requirement already satisfied: ntlm-auth>=1.0.2 in /usr/local/lib/python3.7/dist-packages (from requests-ntlm>=1.1.0->qiskit-ibmq-provider==0.19.1->qiskit[visualization]) (1.5.0)\n",
            "Requirement already satisfied: cryptography>=1.3 in /usr/local/lib/python3.7/dist-packages (from requests-ntlm>=1.1.0->qiskit-ibmq-provider==0.19.1->qiskit[visualization]) (37.0.2)\n",
            "Requirement already satisfied: importlib-metadata>=1.7.0 in /usr/local/lib/python3.7/dist-packages (from stevedore>=3.0.0->qiskit-terra==0.20.2->qiskit[visualization]) (4.11.4)\n",
            "Requirement already satisfied: pbr!=2.1.0,>=2.0.0 in /usr/local/lib/python3.7/dist-packages (from stevedore>=3.0.0->qiskit-terra==0.20.2->qiskit[visualization]) (5.9.0)\n",
            "Requirement already satisfied: mpmath>=0.19 in /usr/local/lib/python3.7/dist-packages (from sympy>=1.3->qiskit-terra==0.20.2->qiskit[visualization]) (1.2.1)\n",
            "Requirement already satisfied: notebook>=4.4.1 in /usr/local/lib/python3.7/dist-packages (from widgetsnbextension~=3.6.0->ipywidgets>=7.3.0->qiskit[visualization]) (5.3.1)\n",
            "Requirement already satisfied: cffi>=1.12 in /usr/local/lib/python3.7/dist-packages (from cryptography>=1.3->requests-ntlm>=1.1.0->qiskit-ibmq-provider==0.19.1->qiskit[visualization]) (1.15.0)\n",
            "Requirement already satisfied: zipp>=0.5 in /usr/local/lib/python3.7/dist-packages (from importlib-metadata>=1.7.0->stevedore>=3.0.0->qiskit-terra==0.20.2->qiskit[visualization]) (3.8.0)\n",
            "Requirement already satisfied: importlib-resources>=1.4.0 in /usr/local/lib/python3.7/dist-packages (from jsonschema>=2.6->nbformat>=4.2.0->ipywidgets>=7.3.0->qiskit[visualization]) (5.7.1)\n",
            "Requirement already satisfied: pyrsistent!=0.17.0,!=0.17.1,!=0.17.2,>=0.14.0 in /usr/local/lib/python3.7/dist-packages (from jsonschema>=2.6->nbformat>=4.2.0->ipywidgets>=7.3.0->qiskit[visualization]) (0.18.1)\n",
            "Requirement already satisfied: attrs>=17.4.0 in /usr/local/lib/python3.7/dist-packages (from jsonschema>=2.6->nbformat>=4.2.0->ipywidgets>=7.3.0->qiskit[visualization]) (21.4.0)\n",
            "Requirement already satisfied: jinja2 in /usr/local/lib/python3.7/dist-packages (from notebook>=4.4.1->widgetsnbextension~=3.6.0->ipywidgets>=7.3.0->qiskit[visualization]) (2.11.3)\n",
            "Requirement already satisfied: terminado>=0.8.1 in /usr/local/lib/python3.7/dist-packages (from notebook>=4.4.1->widgetsnbextension~=3.6.0->ipywidgets>=7.3.0->qiskit[visualization]) (0.13.3)\n",
            "Requirement already satisfied: Send2Trash in /usr/local/lib/python3.7/dist-packages (from notebook>=4.4.1->widgetsnbextension~=3.6.0->ipywidgets>=7.3.0->qiskit[visualization]) (1.8.0)\n",
            "Requirement already satisfied: nbconvert in /usr/local/lib/python3.7/dist-packages (from notebook>=4.4.1->widgetsnbextension~=3.6.0->ipywidgets>=7.3.0->qiskit[visualization]) (5.6.1)\n",
            "Requirement already satisfied: pyzmq>=13 in /usr/local/lib/python3.7/dist-packages (from jupyter-client->ipykernel>=4.5.1->ipywidgets>=7.3.0->qiskit[visualization]) (23.1.0)\n",
            "Requirement already satisfied: wcwidth in /usr/local/lib/python3.7/dist-packages (from prompt-toolkit<2.0.0,>=1.0.4->ipython>=4.0.0->ipywidgets>=7.3.0->qiskit[visualization]) (0.2.5)\n",
            "Requirement already satisfied: ptyprocess>=0.5 in /usr/local/lib/python3.7/dist-packages (from pexpect->ipython>=4.0.0->ipywidgets>=7.3.0->qiskit[visualization]) (0.7.0)\n",
            "Requirement already satisfied: pycparser in /usr/local/lib/python3.7/dist-packages (from cffi>=1.12->cryptography>=1.3->requests-ntlm>=1.1.0->qiskit-ibmq-provider==0.19.1->qiskit[visualization]) (2.21)\n",
            "Requirement already satisfied: MarkupSafe>=0.23 in /usr/local/lib/python3.7/dist-packages (from jinja2->notebook>=4.4.1->widgetsnbextension~=3.6.0->ipywidgets>=7.3.0->qiskit[visualization]) (2.0.1)\n",
            "Requirement already satisfied: mistune<2,>=0.8.1 in /usr/local/lib/python3.7/dist-packages (from nbconvert->notebook>=4.4.1->widgetsnbextension~=3.6.0->ipywidgets>=7.3.0->qiskit[visualization]) (0.8.4)\n",
            "Requirement already satisfied: defusedxml in /usr/local/lib/python3.7/dist-packages (from nbconvert->notebook>=4.4.1->widgetsnbextension~=3.6.0->ipywidgets>=7.3.0->qiskit[visualization]) (0.7.1)\n",
            "Requirement already satisfied: pandocfilters>=1.4.1 in /usr/local/lib/python3.7/dist-packages (from nbconvert->notebook>=4.4.1->widgetsnbextension~=3.6.0->ipywidgets>=7.3.0->qiskit[visualization]) (1.5.0)\n",
            "Requirement already satisfied: testpath in /usr/local/lib/python3.7/dist-packages (from nbconvert->notebook>=4.4.1->widgetsnbextension~=3.6.0->ipywidgets>=7.3.0->qiskit[visualization]) (0.6.0)\n",
            "Requirement already satisfied: bleach in /usr/local/lib/python3.7/dist-packages (from nbconvert->notebook>=4.4.1->widgetsnbextension~=3.6.0->ipywidgets>=7.3.0->qiskit[visualization]) (5.0.0)\n",
            "Requirement already satisfied: entrypoints>=0.2.2 in /usr/local/lib/python3.7/dist-packages (from nbconvert->notebook>=4.4.1->widgetsnbextension~=3.6.0->ipywidgets>=7.3.0->qiskit[visualization]) (0.4)\n",
            "Requirement already satisfied: webencodings in /usr/local/lib/python3.7/dist-packages (from bleach->nbconvert->notebook>=4.4.1->widgetsnbextension~=3.6.0->ipywidgets>=7.3.0->qiskit[visualization]) (0.5.1)\n",
            "\u001b[33mWARNING: Running pip as the 'root' user can result in broken permissions and conflicting behaviour with the system package manager. It is recommended to use a virtual environment instead: https://pip.pypa.io/warnings/venv\u001b[0m\u001b[33m\n",
            "\u001b[0m"
          ]
        }
      ]
    },
    {
      "cell_type": "code",
      "source": [
        "#!pip install qiskit-aer-gpu"
      ],
      "metadata": {
        "id": "FJUERx0mGvV7"
      },
      "execution_count": 2,
      "outputs": []
    },
    {
      "cell_type": "code",
      "metadata": {
        "id": "e5fdX88pX2op"
      },
      "source": [
        "import matplotlib.pyplot as plt\n",
        "%matplotlib inline\n",
        "\n",
        "# import os\n",
        "import time\n",
        "import numpy as np\n",
        "from numpy.random import default_rng\n",
        "\n",
        "import qiskit\n",
        "import pylatexenc\n",
        "from qiskit import QuantumCircuit, ClassicalRegister, QuantumRegister, execute\n",
        "from qiskit.extensions import Initialize\n",
        "from qiskit.algorithms import optimizers"
      ],
      "execution_count": 3,
      "outputs": []
    },
    {
      "cell_type": "markdown",
      "metadata": {
        "id": "UiVGLmmJFcfn"
      },
      "source": [
        "### 1-2. Setting of the main hyper-parameters of the model"
      ]
    },
    {
      "cell_type": "code",
      "metadata": {
        "id": "kISDupKdX2or"
      },
      "source": [
        "BATCH_SIZE = 100\n",
        "n_qubits = 3\n",
        "n_params = 90\n",
        "n_shots = 1024\n",
        "iteration = 200\n",
        "n_epochs = 50\n",
        "n_layers = 1    # Number of random layers\n",
        "\n",
        "SAVE_PATH = \"aeqis/\" # Data saving folder\n",
        "seed = 2022\n",
        "np.random.seed(seed)        # Seed for NumPy random number generator\n",
        "rng = default_rng(seed)\n",
        "qiskit.utils.algorithm_globals.random_seed = seed\n",
        "\n",
        "isReal = False # 'True' for real device or 'False' for simulator\n",
        "use_gpu = False"
      ],
      "execution_count": 4,
      "outputs": []
    },
    {
      "cell_type": "markdown",
      "metadata": {
        "id": "raQ2L0JcMJOk"
      },
      "source": [
        "## 2. Construct Quantum Circuit"
      ]
    },
    {
      "cell_type": "markdown",
      "source": [
        "### 2-1. One Qubit Unitary Circuit "
      ],
      "metadata": {
        "id": "vEh2kUQecHcG"
      }
    },
    {
      "cell_type": "code",
      "source": [
        "def one_qubit_unitary(params, wire):  # need 3 parameters\n",
        "  circ = QuantumCircuit(n_qubits, 1, name = '1 Qubit Unitary')\n",
        "\n",
        "  circ.rx(params[0],wire)\n",
        "  circ.ry(params[1],wire)\n",
        "  circ.rz(params[2],wire)\n",
        "  \n",
        "  return circ\n",
        "\n",
        "params = np.arange(0, 3)\n",
        "one_qubit_unitary(params, 0).draw(output='mpl')"
      ],
      "metadata": {
        "colab": {
          "base_uri": "https://localhost:8080/",
          "height": 231
        },
        "id": "ASW-7WmjcOQW",
        "outputId": "5c31474e-c196-418f-d3f4-fdabe9cb7980"
      },
      "execution_count": 5,
      "outputs": [
        {
          "output_type": "execute_result",
          "data": {
            "text/plain": [
              "<Figure size 267.197x264.88 with 1 Axes>"
            ],
            "image/png": "[encoded data removed]"
          },
          "metadata": {},
          "execution_count": 5
        }
      ]
    },
    {
      "cell_type": "markdown",
      "source": [
        "### 2-2. Two Qubits Unitary Circuit"
      ],
      "metadata": {
        "id": "9Tbi_OvzqNbm"
      }
    },
    {
      "cell_type": "code",
      "source": [
        "def two_qubit_unitary(params, wires):  # need 3 parameters\n",
        "  circ = QuantumCircuit(n_qubits, 1, name = '2 Qubit Unitary')\n",
        "  '''\n",
        "  circ.compose(one_qubit_unitary(params[0:3], wires[0]), inplace=True)\n",
        "  circ.compose(one_qubit_unitary(params[3:6], wires[1]), inplace=True)\n",
        "  circ.rzz(params[6], wires[0], wires[1])\n",
        "  circ.ryy(params[7], wires[0], wires[1])\n",
        "  circ.rxx(params[8], wires[0], wires[1])\n",
        "  '''\n",
        "  circ.rzz(params[0], wires[0], wires[1])\n",
        "  circ.ryy(params[1], wires[0], wires[1])\n",
        "  circ.rxx(params[2], wires[0], wires[1])\n",
        "  #circ.compose(one_qubit_unitary(params[9:12], wires[0]), inplace=True)\n",
        "  #circ.compose(one_qubit_unitary(params[12:15], wires[1]), inplace=True)\n",
        "  circ.barrier()\n",
        "\n",
        "  return circ\n",
        "\n",
        "params = np.arange(0, 15)\n",
        "two_qubit_unitary(params, [0,1]).draw(output='mpl')"
      ],
      "metadata": {
        "colab": {
          "base_uri": "https://localhost:8080/",
          "height": 231
        },
        "id": "yMfkWw-ZqRQ7",
        "outputId": "1ac5ef5a-f307-438d-c90c-cbe2b9e3b4ce"
      },
      "execution_count": 6,
      "outputs": [
        {
          "output_type": "execute_result",
          "data": {
            "text/plain": [
              "<Figure size 387.597x264.88 with 1 Axes>"
            ],
            "image/png": "[encoded data removed]"
          },
          "metadata": {},
          "execution_count": 6
        }
      ]
    },
    {
      "cell_type": "markdown",
      "source": [
        "### 2-3. Decoder Circuit"
      ],
      "metadata": {
        "id": "lTRXDKEy4hlr"
      }
    },
    {
      "cell_type": "code",
      "source": [
        "def decoder(params, wires):  # need 12 parameters\n",
        "  dec = QuantumCircuit(n_qubits, 1, name = '3 Qubit Unitary')\n",
        "  dec.compose(one_qubit_unitary(params[0:3], [wires[0]]), inplace=True)\n",
        "  dec.compose(one_qubit_unitary(params[3:6], [wires[1]]), inplace=True)\n",
        "  dec.compose(one_qubit_unitary(params[6:9], [wires[2]]), inplace=True)\n",
        "\n",
        "  dec.barrier()\n",
        "\n",
        "  dec.compose(two_qubit_unitary(params[9:12], [wires[0],wires[1]]), inplace=True)\n",
        "  dec.compose(two_qubit_unitary(params[9:12], [wires[1],wires[2]]), inplace=True)\n",
        "  dec.compose(two_qubit_unitary(params[9:12], [wires[0],wires[2]]), inplace=True)\n",
        "\n",
        "  dec.cx(wires[0], wires[1])\n",
        "  dec.cx(wires[2], wires[1])\n",
        "  #dec.barrier()\n",
        "\n",
        "  #dec.measure(n_qubits//2, 0)   \n",
        "  #circ.barrier()\n",
        "\n",
        "  return dec\n",
        "\n",
        "params = np.arange(0, 12)\n",
        "decoder(params, [0,1,2]).draw(output='mpl')"
      ],
      "metadata": {
        "colab": {
          "base_uri": "https://localhost:8080/",
          "height": 231
        },
        "id": "Idxr-oAb4l1F",
        "outputId": "1a65a526-1fc6-4f7c-8c76-27479c73505c"
      },
      "execution_count": 7,
      "outputs": [
        {
          "output_type": "execute_result",
          "data": {
            "text/plain": [
              "<Figure size 1350.8x264.88 with 1 Axes>"
            ],
            "image/png": "[encoded data removed]"
          },
          "metadata": {},
          "execution_count": 7
        }
      ]
    },
    {
      "cell_type": "markdown",
      "source": [
        "### 2-4. Encoder Circuit"
      ],
      "metadata": {
        "id": "CSXSJxNH7oJX"
      }
    },
    {
      "cell_type": "code",
      "source": [
        "# Defining Encoder circuit. Encoder is inversion of Decoder.\n",
        "def encoder(decoder):\n",
        "    enc = QuantumCircuit(n_qubits, 1, name = 'Encoder')\n",
        "    enc = decoder.inverse()\n",
        "    \n",
        "    return enc\n",
        "\n",
        "# visualizing Encoder to check\n",
        "params = np.arange(0, 12)\n",
        "encoder(decoder(params, np.arange(0,3))).draw(output='mpl')"
      ],
      "metadata": {
        "colab": {
          "base_uri": "https://localhost:8080/",
          "height": 231
        },
        "id": "BUwZ6ZhB7wcj",
        "outputId": "86d0ff61-3d03-4f95-cbc0-85661d9c093a"
      },
      "execution_count": 8,
      "outputs": [
        {
          "output_type": "execute_result",
          "data": {
            "text/plain": [
              "<Figure size 1350.8x264.88 with 1 Axes>"
            ],
            "image/png": "[encoded data removed]"
          },
          "metadata": {},
          "execution_count": 8
        }
      ]
    },
    {
      "cell_type": "markdown",
      "source": [
        "### 2-5. Noise Model"
      ],
      "metadata": {
        "id": "4rcyW7GO1PYo"
      }
    },
    {
      "cell_type": "code",
      "source": [
        "circ = QuantumCircuit(3,1)\n",
        "x_p = 0.2\n",
        "z_p= 0.3\n",
        "xz_p = 0.5\n",
        "\n",
        "def random_circuit(n,x_p,z_p,xz_p):\n",
        "    circ = QuantumCircuit(n_qubits,1)\n",
        "    p = x_p + z_p + xz_p\n",
        "    #print(f\"bit flip 확률:{x_p}\\nphase flip 확률:{z_p}\\nbit and phase flip 확률 :{xz_p},\\nIdentitiy(non error):{1-p}\")\n",
        "    \n",
        "    a = rng.choice(np.arange(1, 5), p=[x_p, z_p, xz_p,1-p ])\n",
        "    if a ==[1]:\n",
        "        circ.x(n)\n",
        "    elif a ==[2]:\n",
        "        circ.z(n)\n",
        "    elif a ==[3]:\n",
        "        circ.x(n)\n",
        "        circ.z(n)\n",
        "    elif a ==[4]:\n",
        "        pass\n",
        "    return circ\n",
        "random_circuit(1,x_p,z_p,xz_p).draw()"
      ],
      "metadata": {
        "colab": {
          "base_uri": "https://localhost:8080/",
          "height": 156
        },
        "id": "MzGxixuw1bfn",
        "outputId": "88c7a3d0-ebf6-4892-a5b6-b17a4a78d684"
      },
      "execution_count": 9,
      "outputs": [
        {
          "output_type": "execute_result",
          "data": {
            "text/plain": [
              "          \n",
              "q_0: ─────\n",
              "     ┌───┐\n",
              "q_1: ┤ Z ├\n",
              "     └───┘\n",
              "q_2: ─────\n",
              "          \n",
              "c: 1/═════\n",
              "          "
            ],
            "text/html": [
              "<pre style=\"word-wrap: normal;white-space: pre;background: #fff0;line-height: 1.1;font-family: &quot;Courier New&quot;,Courier,monospace\">          \n",
              "q_0: ─────\n",
              "     ┌───┐\n",
              "q_1: ┤ Z ├\n",
              "     └───┘\n",
              "q_2: ─────\n",
              "          \n",
              "c: 1/═════\n",
              "          </pre>"
            ]
          },
          "metadata": {},
          "execution_count": 9
        }
      ]
    },
    {
      "cell_type": "markdown",
      "source": [
        "### 2-6. Complete Circuit"
      ],
      "metadata": {
        "id": "vSC-J_T59G1h"
      }
    },
    {
      "cell_type": "code",
      "source": [
        "def qae(params, wires, input_state, error_qubit):  # need 90 parameters\n",
        "  qc = QuantumCircuit(n_qubits, 1, name = 'Quantum Autoencoder')\n",
        "  qc.append(input_state, [n_qubits//2])\n",
        "  qc.barrier()\n",
        "\n",
        "  dec = decoder(params, np.arange(0,n_qubits))\n",
        "  qc.compose(encoder(dec), inplace=True)\n",
        "\n",
        "  # Add noise\n",
        "  # qc.barrier()\n",
        "  # qc += noisemodel(error_qubit)\n",
        "  \n",
        "  qc.barrier()\n",
        "  qc.compose(random_circuit(1,x_p,z_p,xz_p),inplace=True)\n",
        "  qc.barrier()\n",
        "  \n",
        "  qc.compose(dec, inplace=True)\n",
        "\n",
        "  qc.barrier()\n",
        "  #qc.measure(np.arange(0,9), np.arange(0,9))\n",
        "  qc.measure(n_qubits//2,0)\n",
        "\n",
        "  return qc\n",
        "\n",
        "params = np.arange(0, 15)\n",
        "wires = np.arange(0,n_qubits)\n",
        "initial_state = [0, 1]\n",
        "input_state = Initialize(initial_state)\n",
        "qae(params, wires, input_state, 1).draw(output='mpl')"
      ],
      "metadata": {
        "colab": {
          "base_uri": "https://localhost:8080/",
          "height": 458
        },
        "id": "0fP9lLeF9I0n",
        "outputId": "eeeeffae-6062-436f-a784-97dd4a863eb1"
      },
      "execution_count": 10,
      "outputs": [
        {
          "output_type": "execute_result",
          "data": {
            "text/plain": [
              "<Figure size 1591.6x565.88 with 1 Axes>"
            ],
            "image/png": "[encoded data removed]"
          },
          "metadata": {},
          "execution_count": 10
        }
      ]
    },
    {
      "cell_type": "markdown",
      "source": [
        "## 3. Optimization"
      ],
      "metadata": {
        "id": "NWcNoEjwpxHR"
      }
    },
    {
      "cell_type": "markdown",
      "source": [
        "### 3-1. Generalize Output"
      ],
      "metadata": {
        "id": "czZHrcpdfLrS"
      }
    },
    {
      "cell_type": "code",
      "source": [
        "def gen_states(output_state, target_state):\n",
        "  '''\n",
        "  alpha = 0\n",
        "  for i in range(16):\n",
        "    alpha += np.sum(np.power([abs(output_state[32*i+j]) for j in range(16)],2))\n",
        "  alpha = np.sqrt(alpha)\n",
        "    \n",
        "  if alpha == 0:\n",
        "    for i in range(16):\n",
        "      beta += np.power([abs(output_state[32*i+16+j]) for j in range(16)], 2)\n",
        "    beta = np.sqrt(beta)\n",
        "\n",
        "  else:\n",
        "    pseudo_alpha = 0\n",
        "    for i in range(16):\n",
        "      beta += np.sum([output_state[32*i+16+j] for j in range(16)])\n",
        "      pseudo_alpha += np.sum([output_state[32*i+j] for j in range(16)])\n",
        "    beta = beta / pseudo_alpha * alpha\n",
        "    '''\n",
        "  alpha = output_state['0'] / (output_state['0'] + output_state['1'])\n",
        "  beta = output_state['1'] / (output_state['0'] + output_state['1'])\n",
        "    \n",
        "  a, b = target_state[0], target_state[1]\n",
        "  a = np.power(a,2) / (np.power(a,2) + np.power(b,2))\n",
        "  b = np.power(b,2) / (np.power(a,2) + np.power(b,2))\n",
        "    \n",
        "  return np.array([alpha, beta]), np.array([a, b])"
      ],
      "metadata": {
        "id": "Bj-7Nbg7fjJn"
      },
      "execution_count": 11,
      "outputs": []
    },
    {
      "cell_type": "markdown",
      "source": [
        "### 3-2. Configuring Qiskit Backend"
      ],
      "metadata": {
        "id": "SCN9H8VG3J59"
      }
    },
    {
      "cell_type": "code",
      "source": [
        "if isReal:\n",
        "  #from qiskit.providers.ibmq\n",
        "  backend = qml.device(\"qiskit.ibmq\", wires=n_qubits)\n",
        "else:\n",
        "  from qiskit.providers.aer import AerSimulator\n",
        "  #backend = AerSimulator(method='statevector')\n",
        "  from qiskit import Aer\n",
        "  backend = AerSimulator(method=\"statevector\")\n",
        "  if use_gpu:\n",
        "    #backend.available_devices()\n",
        "    backend.set_options(device='GPU')"
      ],
      "metadata": {
        "id": "rMCV_ZWaZNxB"
      },
      "execution_count": 12,
      "outputs": []
    },
    {
      "cell_type": "code",
      "source": [
        "qc = qae(params, np.arange(0,n_qubits), input_state, 1)\n",
        "\n",
        "      # Execute the quantum circuit to obtain the probability distribution associated with the current parameters\n",
        "result = execute(qc, backend).result()\n",
        "output_state = result.get_counts()\n",
        "print(output_state)"
      ],
      "metadata": {
        "colab": {
          "base_uri": "https://localhost:8080/"
        },
        "id": "WidHUwO5FChV",
        "outputId": "1fa14bb8-d898-4bdb-9f75-bb404f40cee0"
      },
      "execution_count": 13,
      "outputs": [
        {
          "output_type": "stream",
          "name": "stdout",
          "text": [
            "{'1': 10, '0': 1014}\n"
          ]
        }
      ]
    },
    {
      "cell_type": "markdown",
      "source": [
        "### 3-3. Create Cost Function"
      ],
      "metadata": {
        "id": "FVQ1utF7q16j"
      }
    },
    {
      "cell_type": "code",
      "source": [
        "def cost(params, input_batch):\n",
        "  cost = 0\n",
        "    \n",
        "  for input_state in input_batch:\n",
        "    target_state = input_state\n",
        "    # initialize state\n",
        "    input_state = Initialize(input_state)\n",
        "\n",
        "    '''    \n",
        "    for error_qubit in np.arange(-1, n_qubits):\n",
        "      # Obtain a quantum circuit instance from the paramters\n",
        "      qc = qae(params, np.arange(0,n_qubits), input_state, error_qubit)\n",
        "\n",
        "      # Execute the quantum circuit to obtain the probability distribution associated with the current parameters\n",
        "      result = execute(qc, backend).result()\n",
        "      output_state = result.get_counts()\n",
        "      \n",
        "      if not '0' in output_state:\n",
        "        output_state['0'] = 0\n",
        "      elif not '1' in output_state:\n",
        "        output_state['1'] = 0\n",
        "      np.array(sorted(output_state.keys()))\n",
        "\n",
        "      output_state, target_state = gen_states(output_state, target_state)\n",
        "      # adding cost for single circuit\n",
        "      cost += np.linalg.norm(output_state - target_state)\n",
        "      '''\n",
        "    # Obtain a quantum circuit instance from the paramters\n",
        "    qc = qae(params, np.arange(0,n_qubits), input_state, 1)\n",
        "\n",
        "    # Execute the quantum circuit to obtain the probability distribution associated with the current parameters\n",
        "    result = execute(qc, backend).result()\n",
        "    output_state = result.get_counts()\n",
        "    output_state, target_state = gen_states(output_state, target_state)\n",
        "    \n",
        "    # adding cost for single circuit\n",
        "    cost += np.linalg.norm(output_state - target_state)\n",
        "    \n",
        "  # returning total cost\n",
        "  return cost"
      ],
      "metadata": {
        "id": "IyxTeC5pq7DZ"
      },
      "execution_count": 14,
      "outputs": []
    },
    {
      "cell_type": "markdown",
      "source": [
        "### 3-4. Define Batch Generator & Optimizer"
      ],
      "metadata": {
        "id": "6djICuNZJr24"
      }
    },
    {
      "cell_type": "code",
      "source": [
        "# Function to create batch according to batch size\n",
        "def create_batch(batch_size):\n",
        "  # Function to return an array after normalizing the elements\n",
        "  def normalize(arr):\n",
        "    return arr / np.linalg.norm(arr)\n",
        "  # Generating random_states\n",
        "  random_states = np.random.rand(batch_size * 2) + np.random.rand(batch_size * 2)*1j\n",
        "  # Creating normalized input states from random states and appending to an array\n",
        "  input_batch = np.array([normalize([random_states[i], random_states[i + 1]]) for i in range(0, 2 * batch_size, 2)])\n",
        "  # Creating target states corresponding to the input states\n",
        "  # target_states = [[input_states[i][0], 0, input_states[i][1], 0, 0, 0, 0, 0] for i in range (batch_size)]\n",
        "\n",
        "  return input_batch"
      ],
      "metadata": {
        "id": "Bj6mY9XSsDoV"
      },
      "execution_count": 15,
      "outputs": []
    },
    {
      "cell_type": "code",
      "source": [
        "def optimize_circuit(initial_params, iteration, num_epoch, batch_size):\n",
        "  current_params = initial_params\n",
        "  current_error = None\n",
        "  data = []\n",
        "    \n",
        "  # Defining global variables\n",
        "  #global input_batch\n",
        "  #global target_states\n",
        "  global results\n",
        "    \n",
        "  input_batch = create_batch(batch_size)\n",
        "\n",
        "  # Initialize the optimizer\n",
        "  optimizer = optimizers.COBYLA(maxiter = iteration, args=(input_batch,))\n",
        "    \n",
        "  # Running batch optimization epoch by epoch\n",
        "  for i in range (0, num_epoch):\n",
        "    iter_start = time.time()\n",
        "    # run optimizer\n",
        "    ret = optimizer.optimize(num_vars=len(initial_params), \n",
        "                             objective_function=cost, \n",
        "                             initial_point=current_params)\n",
        "        \n",
        "    current_params = ret[0]\n",
        "    current_error = ret[1]\n",
        "        \n",
        "    print(\"Finished Epoch: \" + str(i+1) + \" ..... \" + \"Iteration: \" + str(iteration) + \" ..... \" + \"Current Error: \" + str(current_error) + \" ..... \" + \" Time running: \" + str(time.time() - iter_start) + \" seconds\")\n",
        "        \n",
        "    # Simulation result for all circuits will be stored in this list\n",
        "    data.append(current_error)\n",
        "    \n",
        "  # A list to contain each number of epoch\n",
        "  epoch_list = np.arange(1, (num_epoch + 1))\n",
        "  # Adding errror and corresponding circuit number to a list\n",
        "  results = [data, epoch_list]\n",
        "    \n",
        "  # returning final optimized parameters and error\n",
        "  return current_params, current_error"
      ],
      "metadata": {
        "id": "v96dc0LLMqel"
      },
      "execution_count": 16,
      "outputs": []
    },
    {
      "cell_type": "markdown",
      "source": [
        "### 3-5. Initialize Parameters"
      ],
      "metadata": {
        "id": "Vq4H9BBQNzLg"
      }
    },
    {
      "cell_type": "code",
      "source": [
        "initial_params = np.random.uniform(0, 2*np.pi, 12)\n",
        "# initial_params = np.array([math.pi, 0, math.pi, math.pi, 0, math.pi])\n",
        "print(\"Initial Parameters:\")\n",
        "print(initial_params)"
      ],
      "metadata": {
        "colab": {
          "base_uri": "https://localhost:8080/"
        },
        "id": "-oFJ5VtPN2BE",
        "outputId": "2b75fe71-630b-4b1c-e177-70b85d424170"
      },
      "execution_count": 17,
      "outputs": [
        {
          "output_type": "stream",
          "name": "stdout",
          "text": [
            "Initial Parameters:\n",
            "[0.0588019  3.1356727  0.71241073 0.31399602 4.30654293 3.05983627\n",
            " 5.6401467  4.06806134 5.63578551 4.53102439 5.2235476  5.19976353]\n"
          ]
        }
      ]
    },
    {
      "cell_type": "markdown",
      "source": [
        "### 3-6. Run Optimizer"
      ],
      "metadata": {
        "id": "z1LOMqLPOhIW"
      }
    },
    {
      "cell_type": "code",
      "source": [
        "results = []\n",
        "\n",
        "# Optimizing and printing the results\n",
        "iter_start = time.time()\n",
        "optimized_params, error = optimize_circuit(initial_params, iteration, n_epochs, BATCH_SIZE)\n",
        "\n",
        "print(iteration,\"Iterations..... 90 parameters optimized.....\", (time.time() - iter_start), \"seconds for running\")\n",
        "print()\n",
        "print(\"Error:\")\n",
        "print(error)\n",
        "print()\n",
        "print(\"Optimized Parameters:\")\n",
        "print(optimized_params)"
      ],
      "metadata": {
        "colab": {
          "base_uri": "https://localhost:8080/",
          "height": 1000
        },
        "id": "nR34_4uKOSO6",
        "outputId": "af91c1a9-3499-4c8e-ff8a-3f419058b66d"
      },
      "execution_count": 18,
      "outputs": [
        {
          "output_type": "stream",
          "name": "stdout",
          "text": [
            "Finished Epoch: 1 ..... Iteration: 200 ..... Current Error: 97.2344502295969 .....  Time running: 381.2980709075928 seconds\n",
            "Finished Epoch: 2 ..... Iteration: 200 ..... Current Error: 97.94318808118113 .....  Time running: 360.5210859775543 seconds\n",
            "Finished Epoch: 3 ..... Iteration: 200 ..... Current Error: 97.56726764489308 .....  Time running: 350.1451482772827 seconds\n",
            "Finished Epoch: 4 ..... Iteration: 200 ..... Current Error: 96.5805863483372 .....  Time running: 336.3657217025757 seconds\n",
            "Finished Epoch: 5 ..... Iteration: 200 ..... Current Error: 81.4611366029908 .....  Time running: 370.9373688697815 seconds\n",
            "Finished Epoch: 6 ..... Iteration: 200 ..... Current Error: 82.33147735421079 .....  Time running: 358.49771451950073 seconds\n",
            "Finished Epoch: 7 ..... Iteration: 200 ..... Current Error: 83.21451361786771 .....  Time running: 340.2185232639313 seconds\n",
            "Finished Epoch: 8 ..... Iteration: 200 ..... Current Error: 82.91198097943831 .....  Time running: 340.4827575683594 seconds\n",
            "Finished Epoch: 9 ..... Iteration: 200 ..... Current Error: 80.24746023790891 .....  Time running: 378.83671736717224 seconds\n",
            "Finished Epoch: 10 ..... Iteration: 200 ..... Current Error: 86.84637405038578 .....  Time running: 392.305908203125 seconds\n",
            "Finished Epoch: 11 ..... Iteration: 200 ..... Current Error: 85.8163467630254 .....  Time running: 344.1097264289856 seconds\n"
          ]
        },
        {
          "output_type": "error",
          "ename": "KeyError",
          "evalue": "ignored",
          "traceback": [
            "\u001b[0;31m---------------------------------------------------------------------------\u001b[0m",
            "\u001b[0;31mKeyError\u001b[0m                                  Traceback (most recent call last)",
            "\u001b[0;32m<ipython-input-18-22c1a747cbfa>\u001b[0m in \u001b[0;36m<module>\u001b[0;34m()\u001b[0m\n\u001b[1;32m      3\u001b[0m \u001b[0;31m# Optimizing and printing the results\u001b[0m\u001b[0;34m\u001b[0m\u001b[0;34m\u001b[0m\u001b[0;34m\u001b[0m\u001b[0m\n\u001b[1;32m      4\u001b[0m \u001b[0miter_start\u001b[0m \u001b[0;34m=\u001b[0m \u001b[0mtime\u001b[0m\u001b[0;34m.\u001b[0m\u001b[0mtime\u001b[0m\u001b[0;34m(\u001b[0m\u001b[0;34m)\u001b[0m\u001b[0;34m\u001b[0m\u001b[0;34m\u001b[0m\u001b[0m\n\u001b[0;32m----> 5\u001b[0;31m \u001b[0moptimized_params\u001b[0m\u001b[0;34m,\u001b[0m \u001b[0merror\u001b[0m \u001b[0;34m=\u001b[0m \u001b[0moptimize_circuit\u001b[0m\u001b[0;34m(\u001b[0m\u001b[0minitial_params\u001b[0m\u001b[0;34m,\u001b[0m \u001b[0miteration\u001b[0m\u001b[0;34m,\u001b[0m \u001b[0mn_epochs\u001b[0m\u001b[0;34m,\u001b[0m \u001b[0mBATCH_SIZE\u001b[0m\u001b[0;34m)\u001b[0m\u001b[0;34m\u001b[0m\u001b[0;34m\u001b[0m\u001b[0m\n\u001b[0m\u001b[1;32m      6\u001b[0m \u001b[0;34m\u001b[0m\u001b[0m\n\u001b[1;32m      7\u001b[0m \u001b[0mprint\u001b[0m\u001b[0;34m(\u001b[0m\u001b[0miteration\u001b[0m\u001b[0;34m,\u001b[0m\u001b[0;34m\"Iterations..... 90 parameters optimized.....\"\u001b[0m\u001b[0;34m,\u001b[0m \u001b[0;34m(\u001b[0m\u001b[0mtime\u001b[0m\u001b[0;34m.\u001b[0m\u001b[0mtime\u001b[0m\u001b[0;34m(\u001b[0m\u001b[0;34m)\u001b[0m \u001b[0;34m-\u001b[0m \u001b[0miter_start\u001b[0m\u001b[0;34m)\u001b[0m\u001b[0;34m,\u001b[0m \u001b[0;34m\"seconds for running\"\u001b[0m\u001b[0;34m)\u001b[0m\u001b[0;34m\u001b[0m\u001b[0;34m\u001b[0m\u001b[0m\n",
            "\u001b[0;32m<ipython-input-16-d2af2659227f>\u001b[0m in \u001b[0;36moptimize_circuit\u001b[0;34m(initial_params, iteration, num_epoch, batch_size)\u001b[0m\n\u001b[1;32m     20\u001b[0m     ret = optimizer.optimize(num_vars=len(initial_params), \n\u001b[1;32m     21\u001b[0m                              \u001b[0mobjective_function\u001b[0m\u001b[0;34m=\u001b[0m\u001b[0mcost\u001b[0m\u001b[0;34m,\u001b[0m\u001b[0;34m\u001b[0m\u001b[0;34m\u001b[0m\u001b[0m\n\u001b[0;32m---> 22\u001b[0;31m                              initial_point=current_params)\n\u001b[0m\u001b[1;32m     23\u001b[0m \u001b[0;34m\u001b[0m\u001b[0m\n\u001b[1;32m     24\u001b[0m     \u001b[0mcurrent_params\u001b[0m \u001b[0;34m=\u001b[0m \u001b[0mret\u001b[0m\u001b[0;34m[\u001b[0m\u001b[0;36m0\u001b[0m\u001b[0;34m]\u001b[0m\u001b[0;34m\u001b[0m\u001b[0;34m\u001b[0m\u001b[0m\n",
            "\u001b[0;32m/usr/local/lib/python3.7/dist-packages/qiskit/algorithms/optimizers/scipy_optimizer.py\u001b[0m in \u001b[0;36moptimize\u001b[0;34m(self, num_vars, objective_function, gradient_function, variable_bounds, initial_point)\u001b[0m\n\u001b[1;32m    157\u001b[0m         )\n\u001b[1;32m    158\u001b[0m         result = self.minimize(\n\u001b[0;32m--> 159\u001b[0;31m             \u001b[0mobjective_function\u001b[0m\u001b[0;34m,\u001b[0m \u001b[0minitial_point\u001b[0m\u001b[0;34m,\u001b[0m \u001b[0mgradient_function\u001b[0m\u001b[0;34m,\u001b[0m \u001b[0mvariable_bounds\u001b[0m\u001b[0;34m\u001b[0m\u001b[0;34m\u001b[0m\u001b[0m\n\u001b[0m\u001b[1;32m    160\u001b[0m         )\n\u001b[1;32m    161\u001b[0m         \u001b[0;32mreturn\u001b[0m \u001b[0mresult\u001b[0m\u001b[0;34m.\u001b[0m\u001b[0mx\u001b[0m\u001b[0;34m,\u001b[0m \u001b[0mresult\u001b[0m\u001b[0;34m.\u001b[0m\u001b[0mfun\u001b[0m\u001b[0;34m,\u001b[0m \u001b[0mresult\u001b[0m\u001b[0;34m.\u001b[0m\u001b[0mnfev\u001b[0m\u001b[0;34m\u001b[0m\u001b[0;34m\u001b[0m\u001b[0m\n",
            "\u001b[0;32m/usr/local/lib/python3.7/dist-packages/qiskit/algorithms/optimizers/scipy_optimizer.py\u001b[0m in \u001b[0;36mminimize\u001b[0;34m(self, fun, x0, jac, bounds)\u001b[0m\n\u001b[1;32m    134\u001b[0m             \u001b[0mbounds\u001b[0m\u001b[0;34m=\u001b[0m\u001b[0mbounds\u001b[0m\u001b[0;34m,\u001b[0m\u001b[0;34m\u001b[0m\u001b[0;34m\u001b[0m\u001b[0m\n\u001b[1;32m    135\u001b[0m             \u001b[0moptions\u001b[0m\u001b[0;34m=\u001b[0m\u001b[0mself\u001b[0m\u001b[0;34m.\u001b[0m\u001b[0m_options\u001b[0m\u001b[0;34m,\u001b[0m\u001b[0;34m\u001b[0m\u001b[0;34m\u001b[0m\u001b[0m\n\u001b[0;32m--> 136\u001b[0;31m             \u001b[0;34m**\u001b[0m\u001b[0mself\u001b[0m\u001b[0;34m.\u001b[0m\u001b[0m_kwargs\u001b[0m\u001b[0;34m,\u001b[0m\u001b[0;34m\u001b[0m\u001b[0;34m\u001b[0m\u001b[0m\n\u001b[0m\u001b[1;32m    137\u001b[0m         )\n\u001b[1;32m    138\u001b[0m         \u001b[0mresult\u001b[0m \u001b[0;34m=\u001b[0m \u001b[0mOptimizerResult\u001b[0m\u001b[0;34m(\u001b[0m\u001b[0;34m)\u001b[0m\u001b[0;34m\u001b[0m\u001b[0;34m\u001b[0m\u001b[0m\n",
            "\u001b[0;32m/usr/local/lib/python3.7/dist-packages/scipy/optimize/_minimize.py\u001b[0m in \u001b[0;36mminimize\u001b[0;34m(fun, x0, args, method, jac, hess, hessp, bounds, constraints, tol, callback, options)\u001b[0m\n\u001b[1;32m    627\u001b[0m                              **options)\n\u001b[1;32m    628\u001b[0m     \u001b[0;32melif\u001b[0m \u001b[0mmeth\u001b[0m \u001b[0;34m==\u001b[0m \u001b[0;34m'cobyla'\u001b[0m\u001b[0;34m:\u001b[0m\u001b[0;34m\u001b[0m\u001b[0;34m\u001b[0m\u001b[0m\n\u001b[0;32m--> 629\u001b[0;31m         \u001b[0;32mreturn\u001b[0m \u001b[0m_minimize_cobyla\u001b[0m\u001b[0;34m(\u001b[0m\u001b[0mfun\u001b[0m\u001b[0;34m,\u001b[0m \u001b[0mx0\u001b[0m\u001b[0;34m,\u001b[0m \u001b[0margs\u001b[0m\u001b[0;34m,\u001b[0m \u001b[0mconstraints\u001b[0m\u001b[0;34m,\u001b[0m \u001b[0;34m**\u001b[0m\u001b[0moptions\u001b[0m\u001b[0;34m)\u001b[0m\u001b[0;34m\u001b[0m\u001b[0;34m\u001b[0m\u001b[0m\n\u001b[0m\u001b[1;32m    630\u001b[0m     \u001b[0;32melif\u001b[0m \u001b[0mmeth\u001b[0m \u001b[0;34m==\u001b[0m \u001b[0;34m'slsqp'\u001b[0m\u001b[0;34m:\u001b[0m\u001b[0;34m\u001b[0m\u001b[0;34m\u001b[0m\u001b[0m\n\u001b[1;32m    631\u001b[0m         return _minimize_slsqp(fun, x0, args, jac, bounds,\n",
            "\u001b[0;32m/usr/local/lib/python3.7/dist-packages/scipy/optimize/cobyla.py\u001b[0m in \u001b[0;36mwrapper\u001b[0;34m(*args, **kwargs)\u001b[0m\n\u001b[1;32m     32\u001b[0m     \u001b[0;32mdef\u001b[0m \u001b[0mwrapper\u001b[0m\u001b[0;34m(\u001b[0m\u001b[0;34m*\u001b[0m\u001b[0margs\u001b[0m\u001b[0;34m,\u001b[0m \u001b[0;34m**\u001b[0m\u001b[0mkwargs\u001b[0m\u001b[0;34m)\u001b[0m\u001b[0;34m:\u001b[0m\u001b[0;34m\u001b[0m\u001b[0;34m\u001b[0m\u001b[0m\n\u001b[1;32m     33\u001b[0m         \u001b[0;32mwith\u001b[0m \u001b[0m_module_lock\u001b[0m\u001b[0;34m:\u001b[0m\u001b[0;34m\u001b[0m\u001b[0;34m\u001b[0m\u001b[0m\n\u001b[0;32m---> 34\u001b[0;31m             \u001b[0;32mreturn\u001b[0m \u001b[0mfunc\u001b[0m\u001b[0;34m(\u001b[0m\u001b[0;34m*\u001b[0m\u001b[0margs\u001b[0m\u001b[0;34m,\u001b[0m \u001b[0;34m**\u001b[0m\u001b[0mkwargs\u001b[0m\u001b[0;34m)\u001b[0m\u001b[0;34m\u001b[0m\u001b[0;34m\u001b[0m\u001b[0m\n\u001b[0m\u001b[1;32m     35\u001b[0m     \u001b[0;32mreturn\u001b[0m \u001b[0mwrapper\u001b[0m\u001b[0;34m\u001b[0m\u001b[0;34m\u001b[0m\u001b[0m\n\u001b[1;32m     36\u001b[0m \u001b[0;34m\u001b[0m\u001b[0m\n",
            "\u001b[0;32m/usr/local/lib/python3.7/dist-packages/scipy/optimize/cobyla.py\u001b[0m in \u001b[0;36m_minimize_cobyla\u001b[0;34m(fun, x0, args, constraints, rhobeg, tol, maxiter, disp, catol, **unknown_options)\u001b[0m\n\u001b[1;32m    260\u001b[0m     xopt, info = _cobyla.minimize(calcfc, m=m, x=np.copy(x0), rhobeg=rhobeg,\n\u001b[1;32m    261\u001b[0m                                   \u001b[0mrhoend\u001b[0m\u001b[0;34m=\u001b[0m\u001b[0mrhoend\u001b[0m\u001b[0;34m,\u001b[0m \u001b[0miprint\u001b[0m\u001b[0;34m=\u001b[0m\u001b[0miprint\u001b[0m\u001b[0;34m,\u001b[0m \u001b[0mmaxfun\u001b[0m\u001b[0;34m=\u001b[0m\u001b[0mmaxfun\u001b[0m\u001b[0;34m,\u001b[0m\u001b[0;34m\u001b[0m\u001b[0;34m\u001b[0m\u001b[0m\n\u001b[0;32m--> 262\u001b[0;31m                                   dinfo=info)\n\u001b[0m\u001b[1;32m    263\u001b[0m \u001b[0;34m\u001b[0m\u001b[0m\n\u001b[1;32m    264\u001b[0m     \u001b[0;32mif\u001b[0m \u001b[0minfo\u001b[0m\u001b[0;34m[\u001b[0m\u001b[0;36m3\u001b[0m\u001b[0;34m]\u001b[0m \u001b[0;34m>\u001b[0m \u001b[0mcatol\u001b[0m\u001b[0;34m:\u001b[0m\u001b[0;34m\u001b[0m\u001b[0;34m\u001b[0m\u001b[0m\n",
            "\u001b[0;32m/usr/local/lib/python3.7/dist-packages/scipy/optimize/cobyla.py\u001b[0m in \u001b[0;36mcalcfc\u001b[0;34m(x, con)\u001b[0m\n\u001b[1;32m    250\u001b[0m \u001b[0;34m\u001b[0m\u001b[0m\n\u001b[1;32m    251\u001b[0m     \u001b[0;32mdef\u001b[0m \u001b[0mcalcfc\u001b[0m\u001b[0;34m(\u001b[0m\u001b[0mx\u001b[0m\u001b[0;34m,\u001b[0m \u001b[0mcon\u001b[0m\u001b[0;34m)\u001b[0m\u001b[0;34m:\u001b[0m\u001b[0;34m\u001b[0m\u001b[0;34m\u001b[0m\u001b[0m\n\u001b[0;32m--> 252\u001b[0;31m         \u001b[0mf\u001b[0m \u001b[0;34m=\u001b[0m \u001b[0mfun\u001b[0m\u001b[0;34m(\u001b[0m\u001b[0mnp\u001b[0m\u001b[0;34m.\u001b[0m\u001b[0mcopy\u001b[0m\u001b[0;34m(\u001b[0m\u001b[0mx\u001b[0m\u001b[0;34m)\u001b[0m\u001b[0;34m,\u001b[0m \u001b[0;34m*\u001b[0m\u001b[0margs\u001b[0m\u001b[0;34m)\u001b[0m\u001b[0;34m\u001b[0m\u001b[0;34m\u001b[0m\u001b[0m\n\u001b[0m\u001b[1;32m    253\u001b[0m         \u001b[0mi\u001b[0m \u001b[0;34m=\u001b[0m \u001b[0;36m0\u001b[0m\u001b[0;34m\u001b[0m\u001b[0;34m\u001b[0m\u001b[0m\n\u001b[1;32m    254\u001b[0m         \u001b[0;32mfor\u001b[0m \u001b[0msize\u001b[0m\u001b[0;34m,\u001b[0m \u001b[0mc\u001b[0m \u001b[0;32min\u001b[0m \u001b[0mizip\u001b[0m\u001b[0;34m(\u001b[0m\u001b[0mcons_lengths\u001b[0m\u001b[0;34m,\u001b[0m \u001b[0mconstraints\u001b[0m\u001b[0;34m)\u001b[0m\u001b[0;34m:\u001b[0m\u001b[0;34m\u001b[0m\u001b[0;34m\u001b[0m\u001b[0m\n",
            "\u001b[0;32m<ipython-input-14-71a9748f2d15>\u001b[0m in \u001b[0;36mcost\u001b[0;34m(params, input_batch)\u001b[0m\n\u001b[1;32m     32\u001b[0m     \u001b[0mresult\u001b[0m \u001b[0;34m=\u001b[0m \u001b[0mexecute\u001b[0m\u001b[0;34m(\u001b[0m\u001b[0mqc\u001b[0m\u001b[0;34m,\u001b[0m \u001b[0mbackend\u001b[0m\u001b[0;34m)\u001b[0m\u001b[0;34m.\u001b[0m\u001b[0mresult\u001b[0m\u001b[0;34m(\u001b[0m\u001b[0;34m)\u001b[0m\u001b[0;34m\u001b[0m\u001b[0;34m\u001b[0m\u001b[0m\n\u001b[1;32m     33\u001b[0m     \u001b[0moutput_state\u001b[0m \u001b[0;34m=\u001b[0m \u001b[0mresult\u001b[0m\u001b[0;34m.\u001b[0m\u001b[0mget_counts\u001b[0m\u001b[0;34m(\u001b[0m\u001b[0;34m)\u001b[0m\u001b[0;34m\u001b[0m\u001b[0;34m\u001b[0m\u001b[0m\n\u001b[0;32m---> 34\u001b[0;31m     \u001b[0moutput_state\u001b[0m\u001b[0;34m,\u001b[0m \u001b[0mtarget_state\u001b[0m \u001b[0;34m=\u001b[0m \u001b[0mgen_states\u001b[0m\u001b[0;34m(\u001b[0m\u001b[0moutput_state\u001b[0m\u001b[0;34m,\u001b[0m \u001b[0mtarget_state\u001b[0m\u001b[0;34m)\u001b[0m\u001b[0;34m\u001b[0m\u001b[0;34m\u001b[0m\u001b[0m\n\u001b[0m\u001b[1;32m     35\u001b[0m \u001b[0;34m\u001b[0m\u001b[0m\n\u001b[1;32m     36\u001b[0m     \u001b[0;31m# adding cost for single circuit\u001b[0m\u001b[0;34m\u001b[0m\u001b[0;34m\u001b[0m\u001b[0;34m\u001b[0m\u001b[0m\n",
            "\u001b[0;32m<ipython-input-11-59891a3ef559>\u001b[0m in \u001b[0;36mgen_states\u001b[0;34m(output_state, target_state)\u001b[0m\n\u001b[1;32m     18\u001b[0m     \u001b[0mbeta\u001b[0m \u001b[0;34m=\u001b[0m \u001b[0mbeta\u001b[0m \u001b[0;34m/\u001b[0m \u001b[0mpseudo_alpha\u001b[0m \u001b[0;34m*\u001b[0m \u001b[0malpha\u001b[0m\u001b[0;34m\u001b[0m\u001b[0;34m\u001b[0m\u001b[0m\n\u001b[1;32m     19\u001b[0m     '''\n\u001b[0;32m---> 20\u001b[0;31m   \u001b[0malpha\u001b[0m \u001b[0;34m=\u001b[0m \u001b[0moutput_state\u001b[0m\u001b[0;34m[\u001b[0m\u001b[0;34m'0'\u001b[0m\u001b[0;34m]\u001b[0m \u001b[0;34m/\u001b[0m \u001b[0;34m(\u001b[0m\u001b[0moutput_state\u001b[0m\u001b[0;34m[\u001b[0m\u001b[0;34m'0'\u001b[0m\u001b[0;34m]\u001b[0m \u001b[0;34m+\u001b[0m \u001b[0moutput_state\u001b[0m\u001b[0;34m[\u001b[0m\u001b[0;34m'1'\u001b[0m\u001b[0;34m]\u001b[0m\u001b[0;34m)\u001b[0m\u001b[0;34m\u001b[0m\u001b[0;34m\u001b[0m\u001b[0m\n\u001b[0m\u001b[1;32m     21\u001b[0m   \u001b[0mbeta\u001b[0m \u001b[0;34m=\u001b[0m \u001b[0moutput_state\u001b[0m\u001b[0;34m[\u001b[0m\u001b[0;34m'1'\u001b[0m\u001b[0;34m]\u001b[0m \u001b[0;34m/\u001b[0m \u001b[0;34m(\u001b[0m\u001b[0moutput_state\u001b[0m\u001b[0;34m[\u001b[0m\u001b[0;34m'0'\u001b[0m\u001b[0;34m]\u001b[0m \u001b[0;34m+\u001b[0m \u001b[0moutput_state\u001b[0m\u001b[0;34m[\u001b[0m\u001b[0;34m'1'\u001b[0m\u001b[0;34m]\u001b[0m\u001b[0;34m)\u001b[0m\u001b[0;34m\u001b[0m\u001b[0;34m\u001b[0m\u001b[0m\n\u001b[1;32m     22\u001b[0m \u001b[0;34m\u001b[0m\u001b[0m\n",
            "\u001b[0;31mKeyError\u001b[0m: '0'"
          ]
        }
      ]
    },
    {
      "cell_type": "code",
      "source": [
        ""
      ],
      "metadata": {
        "colab": {
          "base_uri": "https://localhost:8080/",
          "height": 170
        },
        "id": "bW1azCdzfoJJ",
        "outputId": "49f57e1f-8b72-414f-d5dd-8bba13261ff2"
      },
      "execution_count": 20,
      "outputs": [
        {
          "output_type": "error",
          "ename": "NameError",
          "evalue": "ignored",
          "traceback": [
            "\u001b[0;31m---------------------------------------------------------------------------\u001b[0m",
            "\u001b[0;31mNameError\u001b[0m                                 Traceback (most recent call last)",
            "\u001b[0;32m<ipython-input-20-a2af3b5b8efb>\u001b[0m in \u001b[0;36m<module>\u001b[0;34m()\u001b[0m\n\u001b[0;32m----> 1\u001b[0;31m \u001b[0mprint\u001b[0m\u001b[0;34m(\u001b[0m\u001b[0moptimized_params\u001b[0m\u001b[0;34m)\u001b[0m\u001b[0;34m\u001b[0m\u001b[0;34m\u001b[0m\u001b[0m\n\u001b[0m",
            "\u001b[0;31mNameError\u001b[0m: name 'optimized_params' is not defined"
          ]
        }
      ]
    },
    {
      "cell_type": "markdown",
      "source": [
        "## 4. Plot Results for Comparison"
      ],
      "metadata": {
        "id": "fFVTRZfGOyGk"
      }
    },
    {
      "cell_type": "code",
      "source": [
        "import matplotlib.pyplot as plt\n",
        "COLOR = '#4a87e0'\n",
        "plt.rcParams['text.color'] = COLOR\n",
        "plt.rcParams['axes.labelcolor'] = COLOR\n",
        "plt.rcParams['xtick.color'] = COLOR\n",
        "plt.rcParams['ytick.color'] = COLOR\n",
        "\n",
        "# function to plot results for comparison \n",
        "def plot_result(results):\n",
        "\n",
        "    plt.plot(results[1], results[0], label=iteration, marker='o', ls='-')\n",
        "\n",
        "    plt.xlabel('Epoch Number')\n",
        "    plt.ylabel('Error')\n",
        "\n",
        "    plt.title('Evolution of Error with Number of Epochs')\n",
        "\n",
        "    plt.legend(loc=\"lower right\", bbox_to_anchor=(1.2, 0), title='no. of \\n optimizer\\n iterations')\n",
        "    plt.show()\n",
        "\n",
        "plot_result(results)"
      ],
      "metadata": {
        "id": "SEPbLfE9O1L8",
        "colab": {
          "base_uri": "https://localhost:8080/",
          "height": 330
        },
        "outputId": "0240a302-003c-4b88-a5bd-1c87c52e7434"
      },
      "execution_count": 19,
      "outputs": [
        {
          "output_type": "error",
          "ename": "IndexError",
          "evalue": "ignored",
          "traceback": [
            "\u001b[0;31m---------------------------------------------------------------------------\u001b[0m",
            "\u001b[0;31mIndexError\u001b[0m                                Traceback (most recent call last)",
            "\u001b[0;32m<ipython-input-19-b60ddf6a1c12>\u001b[0m in \u001b[0;36m<module>\u001b[0;34m()\u001b[0m\n\u001b[1;32m     19\u001b[0m     \u001b[0mplt\u001b[0m\u001b[0;34m.\u001b[0m\u001b[0mshow\u001b[0m\u001b[0;34m(\u001b[0m\u001b[0;34m)\u001b[0m\u001b[0;34m\u001b[0m\u001b[0;34m\u001b[0m\u001b[0m\n\u001b[1;32m     20\u001b[0m \u001b[0;34m\u001b[0m\u001b[0m\n\u001b[0;32m---> 21\u001b[0;31m \u001b[0mplot_result\u001b[0m\u001b[0;34m(\u001b[0m\u001b[0mresults\u001b[0m\u001b[0;34m)\u001b[0m\u001b[0;34m\u001b[0m\u001b[0;34m\u001b[0m\u001b[0m\n\u001b[0m",
            "\u001b[0;32m<ipython-input-19-b60ddf6a1c12>\u001b[0m in \u001b[0;36mplot_result\u001b[0;34m(results)\u001b[0m\n\u001b[1;32m      9\u001b[0m \u001b[0;32mdef\u001b[0m \u001b[0mplot_result\u001b[0m\u001b[0;34m(\u001b[0m\u001b[0mresults\u001b[0m\u001b[0;34m)\u001b[0m\u001b[0;34m:\u001b[0m\u001b[0;34m\u001b[0m\u001b[0;34m\u001b[0m\u001b[0m\n\u001b[1;32m     10\u001b[0m \u001b[0;34m\u001b[0m\u001b[0m\n\u001b[0;32m---> 11\u001b[0;31m     \u001b[0mplt\u001b[0m\u001b[0;34m.\u001b[0m\u001b[0mplot\u001b[0m\u001b[0;34m(\u001b[0m\u001b[0mresults\u001b[0m\u001b[0;34m[\u001b[0m\u001b[0;36m1\u001b[0m\u001b[0;34m]\u001b[0m\u001b[0;34m,\u001b[0m \u001b[0mresults\u001b[0m\u001b[0;34m[\u001b[0m\u001b[0;36m0\u001b[0m\u001b[0;34m]\u001b[0m\u001b[0;34m,\u001b[0m \u001b[0mlabel\u001b[0m\u001b[0;34m=\u001b[0m\u001b[0miteration\u001b[0m\u001b[0;34m,\u001b[0m \u001b[0mmarker\u001b[0m\u001b[0;34m=\u001b[0m\u001b[0;34m'o'\u001b[0m\u001b[0;34m,\u001b[0m \u001b[0mls\u001b[0m\u001b[0;34m=\u001b[0m\u001b[0;34m'-'\u001b[0m\u001b[0;34m)\u001b[0m\u001b[0;34m\u001b[0m\u001b[0;34m\u001b[0m\u001b[0m\n\u001b[0m\u001b[1;32m     12\u001b[0m \u001b[0;34m\u001b[0m\u001b[0m\n\u001b[1;32m     13\u001b[0m     \u001b[0mplt\u001b[0m\u001b[0;34m.\u001b[0m\u001b[0mxlabel\u001b[0m\u001b[0;34m(\u001b[0m\u001b[0;34m'Epoch Number'\u001b[0m\u001b[0;34m)\u001b[0m\u001b[0;34m\u001b[0m\u001b[0;34m\u001b[0m\u001b[0m\n",
            "\u001b[0;31mIndexError\u001b[0m: list index out of range"
          ]
        }
      ]
    }
  ]
}