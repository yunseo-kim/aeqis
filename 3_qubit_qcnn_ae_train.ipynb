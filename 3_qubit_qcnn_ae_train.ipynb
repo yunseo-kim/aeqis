{
  "cells": [
    {
      "cell_type": "markdown",
      "metadata": {
        "id": "NWGbvrK5Ej0E"
      },
      "source": [
        "## 1. Module Import and Hyper-parameters Setting"
      ]
    },
    {
      "cell_type": "markdown",
      "metadata": {
        "id": "leBa4O5SE2Qd"
      },
      "source": [
        "### 1-1. Setup & Module Import"
      ]
    },
    {
      "cell_type": "code",
      "execution_count": null,
      "metadata": {
        "id": "CBH5ggGT_R45"
      },
      "outputs": [],
      "source": [
        "!pip install -U pip qiskit[visualization]"
      ]
    },
    {
      "cell_type": "code",
      "execution_count": null,
      "metadata": {
        "id": "FJUERx0mGvV7"
      },
      "outputs": [],
      "source": [
        "#!pip install qiskit-aer-gpu"
      ]
    },
    {
      "cell_type": "code",
      "execution_count": 4,
      "metadata": {
        "id": "e5fdX88pX2op"
      },
      "outputs": [],
      "source": [
        "import matplotlib.pyplot as plt\n",
        "%matplotlib inline\n",
        "\n",
        "# import os\n",
        "import time\n",
        "import numpy as np\n",
        "from numpy.random import default_rng\n",
        "\n",
        "import qiskit\n",
        "import pylatexenc\n",
        "from qiskit import QuantumCircuit, ClassicalRegister, QuantumRegister, execute\n",
        "from qiskit.extensions import Initialize\n",
        "from qiskit.algorithms import optimizers"
      ]
    },
    {
      "cell_type": "markdown",
      "metadata": {
        "id": "UiVGLmmJFcfn"
      },
      "source": [
        "### 1-2. Setting of the main hyper-parameters of the model"
      ]
    },
    {
      "cell_type": "code",
      "execution_count": null,
      "metadata": {
        "id": "kISDupKdX2or"
      },
      "outputs": [],
      "source": [
        "BATCH_SIZE = 100\n",
        "n_qubits = 3\n",
        "n_params = 12\n",
        "n_shots = 1024\n",
        "iteration = 100\n",
        "n_epochs = 30\n",
        "n_layers = 1    # Number of random layers\n",
        "\n",
        "SAVE_PATH = \"aeqis/\" # Data saving folder\n",
        "seed = 2022\n",
        "np.random.seed(seed)        # Seed for NumPy random number generator\n",
        "rng = default_rng(seed)\n",
        "qiskit.utils.algorithm_globals.random_seed = seed\n",
        "\n",
        "isReal = False # 'True' for real device or 'False' for simulator\n",
        "use_gpu = False"
      ]
    },
    {
      "cell_type": "markdown",
      "metadata": {
        "id": "raQ2L0JcMJOk"
      },
      "source": [
        "## 2. Construct Quantum Circuit"
      ]
    },
    {
      "cell_type": "markdown",
      "metadata": {
        "id": "vEh2kUQecHcG"
      },
      "source": [
        "### 2-1. One Qubit Unitary Circuit "
      ]
    },
    {
      "cell_type": "code",
      "execution_count": null,
      "metadata": {
        "colab": {
          "base_uri": "https://localhost:8080/",
          "height": 231
        },
        "id": "ASW-7WmjcOQW",
        "outputId": "89a21188-ba5e-4755-8457-fa36f469c200"
      },
      "outputs": [
        {
          "data": {
            "image/png": "[encoded data removed]",
            "text/plain": [
              "<Figure size 267.197x264.88 with 1 Axes>"
            ]
          },
          "execution_count": 5,
          "metadata": {},
          "output_type": "execute_result"
        }
      ],
      "source": [
        "def one_qubit_unitary(params, wire):  # need 3 parameters\n",
        "  circ = QuantumCircuit(n_qubits, 1, name = '1 Qubit Unitary')\n",
        "\n",
        "  circ.rx(params[0],wire)\n",
        "  circ.ry(params[1],wire)\n",
        "  circ.rz(params[2],wire)\n",
        "  \n",
        "  return circ\n",
        "\n",
        "params = np.arange(0, 3)\n",
        "one_qubit_unitary(params, 0).draw(output='mpl')"
      ]
    },
    {
      "cell_type": "markdown",
      "metadata": {
        "id": "9Tbi_OvzqNbm"
      },
      "source": [
        "### 2-2. Two Qubits Unitary Circuit"
      ]
    },
    {
      "cell_type": "code",
      "execution_count": null,
      "metadata": {
        "colab": {
          "base_uri": "https://localhost:8080/",
          "height": 231
        },
        "id": "yMfkWw-ZqRQ7",
        "outputId": "a71c0b37-490f-464d-9961-33089d9b0473"
      },
      "outputs": [
        {
          "data": {
            "image/png": "[encoded data removed]",
            "text/plain": [
              "<Figure size 387.597x264.88 with 1 Axes>"
            ]
          },
          "execution_count": 6,
          "metadata": {},
          "output_type": "execute_result"
        }
      ],
      "source": [
        "def two_qubit_unitary(params, wires):  # need 3 parameters\n",
        "  circ = QuantumCircuit(n_qubits, 1, name = '2 Qubit Unitary')\n",
        "  '''\n",
        "  circ.compose(one_qubit_unitary(params[0:3], wires[0]), inplace=True)\n",
        "  circ.compose(one_qubit_unitary(params[3:6], wires[1]), inplace=True)\n",
        "  circ.rzz(params[6], wires[0], wires[1])\n",
        "  circ.ryy(params[7], wires[0], wires[1])\n",
        "  circ.rxx(params[8], wires[0], wires[1])\n",
        "  '''\n",
        "  circ.rzz(params[0], wires[0], wires[1])\n",
        "  circ.ryy(params[1], wires[0], wires[1])\n",
        "  circ.rxx(params[2], wires[0], wires[1])\n",
        "  #circ.compose(one_qubit_unitary(params[9:12], wires[0]), inplace=True)\n",
        "  #circ.compose(one_qubit_unitary(params[12:15], wires[1]), inplace=True)\n",
        "  circ.barrier()\n",
        "\n",
        "  return circ\n",
        "\n",
        "params = np.arange(0, 15)\n",
        "two_qubit_unitary(params, [0,1]).draw(output='mpl')"
      ]
    },
    {
      "cell_type": "markdown",
      "metadata": {
        "id": "lTRXDKEy4hlr"
      },
      "source": [
        "### 2-3. Decoder Circuit"
      ]
    },
    {
      "cell_type": "code",
      "execution_count": null,
      "metadata": {
        "colab": {
          "base_uri": "https://localhost:8080/",
          "height": 175
        },
        "id": "Idxr-oAb4l1F",
        "outputId": "140f6627-dbe1-423c-aef0-ddc696938f20"
      },
      "outputs": [
        {
          "data": {
            "image/png": "[encoded data removed]",
            "text/plain": [
              "<Figure size 1350.8x264.88 with 1 Axes>"
            ]
          },
          "execution_count": 7,
          "metadata": {},
          "output_type": "execute_result"
        }
      ],
      "source": [
        "def decoder(params, wires):  # need 12 parameters\n",
        "  dec = QuantumCircuit(n_qubits, 1, name = '3 Qubit Unitary')\n",
        "  dec.compose(one_qubit_unitary(params[0:3], [wires[0]]), inplace=True)\n",
        "  dec.compose(one_qubit_unitary(params[3:6], [wires[1]]), inplace=True)\n",
        "  dec.compose(one_qubit_unitary(params[6:9], [wires[2]]), inplace=True)\n",
        "\n",
        "  dec.barrier()\n",
        "\n",
        "  dec.compose(two_qubit_unitary(params[9:12], [wires[0],wires[1]]), inplace=True)\n",
        "  dec.compose(two_qubit_unitary(params[9:12], [wires[1],wires[2]]), inplace=True)\n",
        "  dec.compose(two_qubit_unitary(params[9:12], [wires[0],wires[2]]), inplace=True)\n",
        "\n",
        "  dec.cx(wires[0], wires[1])\n",
        "  dec.cx(wires[2], wires[1])\n",
        "  #dec.barrier()\n",
        "\n",
        "  #dec.measure(n_qubits//2, 0)   \n",
        "  #circ.barrier()\n",
        "\n",
        "  return dec\n",
        "\n",
        "params = np.arange(0, 12)\n",
        "decoder(params, [0,1,2]).draw(output='mpl')"
      ]
    },
    {
      "cell_type": "markdown",
      "metadata": {
        "id": "CSXSJxNH7oJX"
      },
      "source": [
        "### 2-4. Encoder Circuit"
      ]
    },
    {
      "cell_type": "code",
      "execution_count": null,
      "metadata": {
        "colab": {
          "base_uri": "https://localhost:8080/",
          "height": 175
        },
        "id": "BUwZ6ZhB7wcj",
        "outputId": "a516b7e2-9397-476c-a234-12c0e00dc8ab"
      },
      "outputs": [
        {
          "data": {
            "image/png": "[encoded data removed]",
            "text/plain": [
              "<Figure size 1350.8x264.88 with 1 Axes>"
            ]
          },
          "execution_count": 8,
          "metadata": {},
          "output_type": "execute_result"
        }
      ],
      "source": [
        "# Defining Encoder circuit. Encoder is inversion of Decoder.\n",
        "def encoder(decoder):\n",
        "    enc = QuantumCircuit(n_qubits, 1, name = 'Encoder')\n",
        "    enc = decoder.inverse()\n",
        "    \n",
        "    return enc\n",
        "\n",
        "# visualizing Encoder to check\n",
        "params = np.arange(0, 12)\n",
        "encoder(decoder(params, np.arange(0,3))).draw(output='mpl')"
      ]
    },
    {
      "cell_type": "markdown",
      "metadata": {
        "id": "4rcyW7GO1PYo"
      },
      "source": [
        "### 2-5. Noise Model"
      ]
    },
    {
      "cell_type": "code",
      "execution_count": null,
      "metadata": {
        "colab": {
          "base_uri": "https://localhost:8080/",
          "height": 156
        },
        "id": "MzGxixuw1bfn",
        "outputId": "ee2a1d00-d3c3-412c-e295-788edfa12756"
      },
      "outputs": [
        {
          "data": {
            "text/html": [
              "<pre style=\"word-wrap: normal;white-space: pre;background: #fff0;line-height: 1.1;font-family: &quot;Courier New&quot;,Courier,monospace\">          \n",
              "q_0: ─────\n",
              "     ┌───┐\n",
              "q_1: ┤ Z ├\n",
              "     └───┘\n",
              "q_2: ─────\n",
              "          \n",
              "c: 1/═════\n",
              "          </pre>"
            ],
            "text/plain": [
              "          \n",
              "q_0: ─────\n",
              "     ┌───┐\n",
              "q_1: ┤ Z ├\n",
              "     └───┘\n",
              "q_2: ─────\n",
              "          \n",
              "c: 1/═════\n",
              "          "
            ]
          },
          "execution_count": 9,
          "metadata": {},
          "output_type": "execute_result"
        }
      ],
      "source": [
        "circ = QuantumCircuit(3,1)\n",
        "x_p = 0.2\n",
        "z_p= 0.3\n",
        "xz_p = 0.5\n",
        "\n",
        "def random_circuit(n,x_p,z_p,xz_p):\n",
        "    circ = QuantumCircuit(n_qubits,1)\n",
        "    p = x_p + z_p + xz_p\n",
        "    #print(f\"bit flip 확률:{x_p}\\nphase flip 확률:{z_p}\\nbit and phase flip 확률 :{xz_p},\\nIdentitiy(non error):{1-p}\")\n",
        "    \n",
        "    a = rng.choice(np.arange(1, 5), p=[x_p, z_p, xz_p,1-p ])\n",
        "    if a ==[1]:\n",
        "        circ.x(n)\n",
        "    elif a ==[2]:\n",
        "        circ.z(n)\n",
        "    elif a ==[3]:\n",
        "        circ.x(n)\n",
        "        circ.z(n)\n",
        "    elif a ==[4]:\n",
        "        pass\n",
        "    return circ\n",
        "random_circuit(1,x_p,z_p,xz_p).draw()"
      ]
    },
    {
      "cell_type": "markdown",
      "metadata": {
        "id": "vSC-J_T59G1h"
      },
      "source": [
        "### 2-6. Complete Circuit"
      ]
    },
    {
      "cell_type": "code",
      "execution_count": null,
      "metadata": {
        "colab": {
          "base_uri": "https://localhost:8080/",
          "height": 294
        },
        "id": "0fP9lLeF9I0n",
        "outputId": "7843e61b-6eb8-4353-f07c-9973e3767560"
      },
      "outputs": [
        {
          "data": {
            "image/png": "[encoded data removed]",
            "text/plain": [
              "<Figure size 1591.6x565.88 with 1 Axes>"
            ]
          },
          "execution_count": 10,
          "metadata": {},
          "output_type": "execute_result"
        }
      ],
      "source": [
        "def qae(params, wires, input_state, error_qubit):  # need 90 parameters\n",
        "  qc = QuantumCircuit(n_qubits, 1, name = 'Quantum Autoencoder')\n",
        "  qc.append(input_state, [n_qubits//2])\n",
        "  qc.barrier()\n",
        "\n",
        "  dec = decoder(params, np.arange(0,n_qubits))\n",
        "  qc.compose(encoder(dec), inplace=True)\n",
        "\n",
        "  # Add noise\n",
        "  # qc.barrier()\n",
        "  # qc += noisemodel(error_qubit)\n",
        "  \n",
        "  qc.barrier()\n",
        "  qc.compose(random_circuit(1,x_p,z_p,xz_p),inplace=True)\n",
        "  qc.barrier()\n",
        "  \n",
        "  qc.compose(dec, inplace=True)\n",
        "\n",
        "  qc.barrier()\n",
        "  #qc.measure(np.arange(0,9), np.arange(0,9))\n",
        "  qc.measure(n_qubits//2,0)\n",
        "\n",
        "  return qc\n",
        "\n",
        "params = np.arange(0, 15)\n",
        "wires = np.arange(0,n_qubits)\n",
        "initial_state = [0, 1]\n",
        "input_state = Initialize(initial_state)\n",
        "qae(params, wires, input_state, 1).draw(output='mpl')"
      ]
    },
    {
      "cell_type": "markdown",
      "metadata": {
        "id": "NWcNoEjwpxHR"
      },
      "source": [
        "## 3. Optimization"
      ]
    },
    {
      "cell_type": "markdown",
      "metadata": {
        "id": "czZHrcpdfLrS"
      },
      "source": [
        "### 3-1. Generalize Output"
      ]
    },
    {
      "cell_type": "code",
      "execution_count": null,
      "metadata": {
        "id": "Bj-7Nbg7fjJn"
      },
      "outputs": [],
      "source": [
        "def gen_states(output_state, target_state):\n",
        "  '''\n",
        "  alpha = 0\n",
        "  for i in range(16):\n",
        "    alpha += np.sum(np.power([abs(output_state[32*i+j]) for j in range(16)],2))\n",
        "  alpha = np.sqrt(alpha)\n",
        "    \n",
        "  if alpha == 0:\n",
        "    for i in range(16):\n",
        "      beta += np.power([abs(output_state[32*i+16+j]) for j in range(16)], 2)\n",
        "    beta = np.sqrt(beta)\n",
        "\n",
        "  else:\n",
        "    pseudo_alpha = 0\n",
        "    for i in range(16):\n",
        "      beta += np.sum([output_state[32*i+16+j] for j in range(16)])\n",
        "      pseudo_alpha += np.sum([output_state[32*i+j] for j in range(16)])\n",
        "    beta = beta / pseudo_alpha * alpha\n",
        "    '''\n",
        "  alpha = output_state['0'] / (output_state['0'] + output_state['1'])\n",
        "  beta = output_state['1'] / (output_state['0'] + output_state['1'])\n",
        "    \n",
        "  a, b = target_state[0], target_state[1]\n",
        "  a = np.power(a,2) / (np.power(a,2) + np.power(b,2))\n",
        "  b = np.power(b,2) / (np.power(a,2) + np.power(b,2))\n",
        "    \n",
        "  return np.array([alpha, beta]), np.array([a, b])"
      ]
    },
    {
      "cell_type": "markdown",
      "metadata": {
        "id": "SCN9H8VG3J59"
      },
      "source": [
        "### 3-2. Configuring Qiskit Backend"
      ]
    },
    {
      "cell_type": "code",
      "execution_count": null,
      "metadata": {
        "id": "rMCV_ZWaZNxB"
      },
      "outputs": [],
      "source": [
        "if isReal:\n",
        "  #from qiskit.providers.ibmq\n",
        "  backend = qml.device(\"qiskit.ibmq\", wires=n_qubits)\n",
        "else:\n",
        "  from qiskit.providers.aer import AerSimulator\n",
        "  #backend = AerSimulator(method='statevector')\n",
        "  from qiskit import Aer\n",
        "  backend = AerSimulator(method=\"statevector\")\n",
        "  if use_gpu:\n",
        "    #backend.available_devices()\n",
        "    backend.set_options(device='GPU')"
      ]
    },
    {
      "cell_type": "code",
      "execution_count": null,
      "metadata": {
        "colab": {
          "base_uri": "https://localhost:8080/"
        },
        "id": "WidHUwO5FChV",
        "outputId": "ab130615-44ec-439e-9911-d154047d7ef6"
      },
      "outputs": [
        {
          "name": "stdout",
          "output_type": "stream",
          "text": [
            "{'1': 9, '0': 1015}\n"
          ]
        }
      ],
      "source": [
        "qc = qae(params, np.arange(0,n_qubits), input_state, 1)\n",
        "\n",
        "      # Execute the quantum circuit to obtain the probability distribution associated with the current parameters\n",
        "result = execute(qc, backend).result()\n",
        "output_state = result.get_counts()\n",
        "print(output_state)"
      ]
    },
    {
      "cell_type": "markdown",
      "metadata": {
        "id": "FVQ1utF7q16j"
      },
      "source": [
        "### 3-3. Create Cost Function"
      ]
    },
    {
      "cell_type": "code",
      "execution_count": null,
      "metadata": {
        "id": "IyxTeC5pq7DZ"
      },
      "outputs": [],
      "source": [
        "def cost(params, input_batch):\n",
        "  cost = 0\n",
        "    \n",
        "  for input_state in input_batch:\n",
        "    target_state = input_state\n",
        "    # initialize state\n",
        "    input_state = Initialize(input_state)\n",
        "\n",
        "    '''    \n",
        "    for error_qubit in np.arange(-1, n_qubits):\n",
        "      # Obtain a quantum circuit instance from the paramters\n",
        "      qc = qae(params, np.arange(0,n_qubits), input_state, error_qubit)\n",
        "\n",
        "      # Execute the quantum circuit to obtain the probability distribution associated with the current parameters\n",
        "      result = execute(qc, backend).result()\n",
        "      output_state = result.get_counts()\n",
        "      \n",
        "      if not '0' in output_state:\n",
        "        output_state['0'] = 0\n",
        "      elif not '1' in output_state:\n",
        "        output_state['1'] = 0\n",
        "      np.array(sorted(output_state.keys()))\n",
        "\n",
        "      output_state, target_state = gen_states(output_state, target_state)\n",
        "      # adding cost for single circuit\n",
        "      cost += np.linalg.norm(output_state - target_state)\n",
        "      '''\n",
        "    # Obtain a quantum circuit instance from the paramters\n",
        "    qc = qae(params, np.arange(0,n_qubits), input_state, 1)\n",
        "\n",
        "    # Execute the quantum circuit to obtain the probability distribution associated with the current parameters\n",
        "    result = execute(qc, backend).result()\n",
        "    output_state = result.get_counts()\n",
        "    if not '0' in output_state:\n",
        "      output_state['0'] = n_shots - output_state['1']\n",
        "    elif not '1' in output_state:\n",
        "      output_state['1'] = n_shots - output_state['0']\n",
        "    output_state, target_state = gen_states(output_state, target_state)\n",
        "    \n",
        "    # adding cost for single circuit\n",
        "    cost += np.linalg.norm(output_state - target_state)\n",
        "\n",
        "  # returning total cost\n",
        "  return cost"
      ]
    },
    {
      "cell_type": "markdown",
      "metadata": {
        "id": "6djICuNZJr24"
      },
      "source": [
        "### 3-4. Define Batch Generator & Optimizer"
      ]
    },
    {
      "cell_type": "code",
      "execution_count": null,
      "metadata": {
        "id": "Bj6mY9XSsDoV"
      },
      "outputs": [],
      "source": [
        "# Function to create batch according to batch size\n",
        "def create_batch(batch_size):\n",
        "  # Function to return an array after normalizing the elements\n",
        "  def normalize(arr):\n",
        "    return arr / np.linalg.norm(arr)\n",
        "  # Generating random_states\n",
        "  random_states = np.random.rand(batch_size * 2) + np.random.rand(batch_size * 2)*1j\n",
        "  # Creating normalized input states from random states and appending to an array\n",
        "  input_batch = np.array([normalize([random_states[i], random_states[i + 1]]) for i in range(0, 2 * batch_size, 2)])\n",
        "  # Creating target states corresponding to the input states\n",
        "  # target_states = [[input_states[i][0], 0, input_states[i][1], 0, 0, 0, 0, 0] for i in range (batch_size)]\n",
        "\n",
        "  return input_batch"
      ]
    },
    {
      "cell_type": "code",
      "execution_count": null,
      "metadata": {
        "id": "v96dc0LLMqel"
      },
      "outputs": [],
      "source": [
        "def optimize_circuit(initial_params, iteration, num_epoch, batch_size):\n",
        "  current_params = initial_params\n",
        "  current_error = None\n",
        "  data = []\n",
        "    \n",
        "  # Defining global variables\n",
        "  #global input_batch\n",
        "  #global target_states\n",
        "  global results\n",
        "    \n",
        "  input_batch = create_batch(batch_size)\n",
        "\n",
        "  # Initialize the optimizer\n",
        "  optimizer = optimizers.COBYLA(maxiter = iteration, args=(input_batch,))\n",
        "    \n",
        "  # Running batch optimization epoch by epoch\n",
        "  for i in range (0, num_epoch):\n",
        "    iter_start = time.time()\n",
        "    # run optimizer\n",
        "    ret = optimizer.optimize(num_vars=len(initial_params), \n",
        "                             objective_function=cost, \n",
        "                             initial_point=current_params)\n",
        "        \n",
        "    current_params = ret[0]\n",
        "    current_error = ret[1]\n",
        "        \n",
        "    print(\"Finished Epoch: \" + str(i+1) + \" ..... \" + \"Iteration: \" + str(iteration) + \" ..... \" + \"Current Error: \" + str(current_error) + \" ..... \" + \" Time running: \" + str(time.time() - iter_start) + \" seconds\")\n",
        "        \n",
        "    # Simulation result for all circuits will be stored in this list\n",
        "    data.append(current_error)\n",
        "    print(current_params)\n",
        "    \n",
        "  # A list to contain each number of epoch\n",
        "  epoch_list = np.arange(1, (num_epoch + 1))\n",
        "  # Adding errror and corresponding circuit number to a list\n",
        "  results = [data, epoch_list]\n",
        "    \n",
        "  # returning final optimized parameters and error\n",
        "  return current_params, current_error"
      ]
    },
    {
      "cell_type": "markdown",
      "metadata": {
        "id": "Vq4H9BBQNzLg"
      },
      "source": [
        "### 3-5. Initialize Parameters"
      ]
    },
    {
      "cell_type": "code",
      "execution_count": null,
      "metadata": {
        "colab": {
          "base_uri": "https://localhost:8080/"
        },
        "id": "-oFJ5VtPN2BE",
        "outputId": "9d7d65e7-a126-4b3d-c170-d51ccaf44f32"
      },
      "outputs": [
        {
          "name": "stdout",
          "output_type": "stream",
          "text": [
            "Initial Parameters:\n",
            "[0.0588019  3.1356727  0.71241073 0.31399602 4.30654293 3.05983627\n",
            " 5.6401467  4.06806134 5.63578551 4.53102439 5.2235476  5.19976353]\n"
          ]
        }
      ],
      "source": [
        "initial_params = np.random.uniform(0, 2*np.pi, 12)\n",
        "# initial_params = np.array([math.pi, 0, math.pi, math.pi, 0, math.pi])\n",
        "print(\"Initial Parameters:\")\n",
        "print(initial_params)"
      ]
    },
    {
      "cell_type": "markdown",
      "metadata": {
        "id": "z1LOMqLPOhIW"
      },
      "source": [
        "### 3-6. Run Optimizer"
      ]
    },
    {
      "cell_type": "code",
      "execution_count": null,
      "metadata": {
        "colab": {
          "background_save": true,
          "base_uri": "https://localhost:8080/"
        },
        "id": "nR34_4uKOSO6",
        "outputId": "cb3dc25e-31ea-415b-a2a9-9aaa2c6ece5a"
      },
      "outputs": [
        {
          "name": "stdout",
          "output_type": "stream",
          "text": [
            "Finished Epoch: 1 ..... Iteration: 100 ..... Current Error: 92.77292247579048 .....  Time running: 357.047061920166 seconds\n",
            "[0.06142017 3.13343714 0.71584839 0.31091405 4.30522509 3.05895522\n",
            " 5.64058628 4.11121224 5.5149321  4.53142564 5.22478712 5.19980804]\n",
            "Finished Epoch: 2 ..... Iteration: 100 ..... Current Error: 88.41158394631644 .....  Time running: 358.38680768013 seconds\n",
            "[-0.22277854  2.85663647  0.49063687  0.1167823   4.21803105  2.65384909\n",
            "  5.39726237  3.84308148  5.36268739  4.40441653  4.66327265  4.88992821]\n",
            "Finished Epoch: 3 ..... Iteration: 100 ..... Current Error: 80.02342027830888 .....  Time running: 353.29089641571045 seconds\n",
            "[0.41467064 2.68387423 0.62467739 1.39218285 3.35519383 2.80433045\n",
            " 5.53127697 4.86022462 4.65147072 5.65589652 3.55155117 4.74373175]\n",
            "Finished Epoch: 4 ..... Iteration: 100 ..... Current Error: 89.95156838760684 .....  Time running: 352.11209511756897 seconds\n",
            "[1.41447266 2.68383793 1.62484238 1.39183116 3.35430016 2.80329675\n",
            " 5.53133147 4.87002553 4.66623718 5.64813105 3.52705225 4.74365906]\n",
            "Finished Epoch: 5 ..... Iteration: 100 ..... Current Error: 80.46529073213401 .....  Time running: 343.3198070526123 seconds\n",
            "[2.41450776 2.68380057 2.62483927 1.39182132 3.35433516 3.80332007\n",
            " 5.53136112 4.87006123 4.66624362 5.64818579 3.52703479 4.74365844]\n",
            "Finished Epoch: 6 ..... Iteration: 100 ..... Current Error: 77.61515456295444 .....  Time running: 347.0867245197296 seconds\n",
            "[3.41941216 2.66201416 2.62044794 1.34346296 3.32260472 3.79956415\n",
            " 5.69043983 5.04515197 4.66314717 5.64332104 3.54520901 4.69700763]\n",
            "Finished Epoch: 7 ..... Iteration: 100 ..... Current Error: 86.4419373115683 .....  Time running: 344.51426577568054 seconds\n",
            "[4.41049628 2.6039103  2.61315088 1.33108866 3.31005684 4.79498506\n",
            " 5.68821029 5.04466497 4.66753854 5.639704   3.55055268 4.69783866]\n",
            "Finished Epoch: 8 ..... Iteration: 100 ..... Current Error: 90.35360550671001 .....  Time running: 335.3659417629242 seconds\n",
            "[4.4104948  2.60392271 2.61309733 1.33103835 3.31005043 5.7949733\n",
            " 5.68819144 5.04466694 4.66759798 5.63971657 3.55054658 4.697852  ]\n",
            "Finished Epoch: 9 ..... Iteration: 100 ..... Current Error: 84.53831603056277 .....  Time running: 333.0051758289337 seconds\n",
            "[4.4115092  2.60418474 3.61358482 1.33026333 3.30898221 5.79438753\n",
            " 5.68732388 5.0694199  4.67857833 5.62660317 3.54251263 4.69755423]\n",
            "Finished Epoch: 10 ..... Iteration: 100 ..... Current Error: 78.59917503045732 .....  Time running: 337.7914619445801 seconds\n",
            "[5.40414845 2.59949173 4.59117848 1.32925088 3.30758345 5.78175131\n",
            " 5.68396364 5.28287738 4.80594738 5.62601824 3.53536838 4.6958725 ]\n",
            "Finished Epoch: 11 ..... Iteration: 100 ..... Current Error: 78.55625330194788 .....  Time running: 339.25342988967896 seconds\n",
            "[6.40971606 2.60445818 4.59319023 1.32262596 3.29995733 5.78349533\n",
            " 5.69042308 5.44145815 4.61542971 5.62462734 3.53847576 5.70021514]\n",
            "Finished Epoch: 12 ..... Iteration: 100 ..... Current Error: 82.35897325663635 .....  Time running: 328.25349378585815 seconds\n",
            "[6.40969785 2.60452578 4.59320168 1.32259355 3.29998631 5.78349218\n",
            " 5.69037516 6.44144874 5.61541238 5.62462623 3.53846232 5.70020094]\n",
            "Finished Epoch: 13 ..... Iteration: 100 ..... Current Error: 78.13229352931569 .....  Time running: 338.8599054813385 seconds\n",
            "[7.37442254 3.59189987 5.5063915  1.41565509 3.24561519 5.72504318\n",
            " 5.6670207  6.41871365 5.5926066  5.60719878 3.5283908  5.67115855]\n",
            "Finished Epoch: 14 ..... Iteration: 100 ..... Current Error: 78.0763207471465 .....  Time running: 338.20426845550537 seconds\n",
            "[7.36113219 4.59292699 5.50569297 1.5013115  3.21983244 5.76515903\n",
            " 6.67200399 6.47424688 5.541864   5.61040185 4.5162173  5.67192753]\n",
            "Finished Epoch: 15 ..... Iteration: 100 ..... Current Error: 76.96108573051387 .....  Time running: 341.7831521034241 seconds\n",
            "[8.27639096 5.51790211 5.7056979  1.4326275  3.1257751  5.64625242\n",
            " 7.08448521 6.45104003 5.53609478 5.57675776 5.51595093 5.64295498]\n"
          ]
        }
      ],
      "source": [
        "results = []\n",
        "\n",
        "# Optimizing and printing the results\n",
        "iter_start = time.time()\n",
        "optimized_params, error = optimize_circuit(initial_params, iteration, n_epochs, BATCH_SIZE)\n",
        "\n",
        "print(iteration,\"Iterations..... 12 parameters optimized.....\", (time.time() - iter_start), \"seconds for running\")\n",
        "print()\n",
        "print(\"Error:\")\n",
        "print(error)\n",
        "print()\n",
        "print(\"Optimized Parameters:\")\n",
        "print(optimized_params)"
      ]
    },
    {
      "cell_type": "markdown",
      "metadata": {
        "id": "fFVTRZfGOyGk"
      },
      "source": [
        "## 4. Plot Results for Comparison"
      ]
    },
    {
      "cell_type": "code",
      "execution_count": 7,
      "metadata": {
        "id": "SEPbLfE9O1L8",
        "colab": {
          "base_uri": "https://localhost:8080/",
          "height": 295
        },
        "outputId": "deba807c-b617-4fb2-f00e-5f28201f9523"
      },
      "outputs": [
        {
          "output_type": "display_data",
          "data": {
            "text/plain": [
              "<Figure size 432x288 with 1 Axes>"
            ],
            "image/png": "[encoded data removed]"
          },
          "metadata": {
            "needs_background": "light"
          }
        }
      ],
      "source": [
        "COLOR = '#4a87e0'\n",
        "plt.rcParams['text.color'] = COLOR\n",
        "plt.rcParams['axes.labelcolor'] = COLOR\n",
        "plt.rcParams['xtick.color'] = COLOR\n",
        "plt.rcParams['ytick.color'] = COLOR\n",
        "\n",
        "results = [[92.77292247579048,88.41158394631644,80.02342027830888,\n",
        "            89.95156838760684,80.46529073213401,77.61515456295444,\n",
        "            86.4419373115683,90.35360550671001,84.53831603056277,\n",
        "            78.59917503045732,78.55625330194788,82.35897325663635,\n",
        "            78.13229352931569,78.0763207471465,76.96108573051387],\n",
        "           np.arange(1,16)]\n",
        "# function to plot results for comparison \n",
        "def plot_result(results):\n",
        "\n",
        "    plt.plot(results[1], results[0], label='iteration', marker='o', ls='-')\n",
        "\n",
        "    plt.xlabel('Epoch Number')\n",
        "    plt.ylabel('Error')\n",
        "\n",
        "    plt.title('Evolution of Error with Number of Epochs')\n",
        "\n",
        "    plt.legend(loc=\"lower right\", bbox_to_anchor=(1.2, 0), title='no. of \\n optimizer\\n iterations')\n",
        "    plt.show()\n",
        "\n",
        "plot_result(results)"
      ]
    }
  ],
  "metadata": {
    "colab": {
      "collapsed_sections": [],
      "name": "3_qubit_qcnn_ae.ipynb",
      "provenance": []
    },
    "gpuClass": "standard",
    "interpreter": {
      "hash": "752579dbebe7f4dfe7c1aa72eac13e23fc88be2cc1ea7ab14e1f8d69b2d97d12"
    },
    "kernelspec": {
      "display_name": "Python 3.8.5 64-bit ('3.8')",
      "name": "python3"
    },
    "language_info": {
      "codemirror_mode": {
        "name": "ipython",
        "version": 3
      },
      "file_extension": ".py",
      "mimetype": "text/x-python",
      "name": "python",
      "nbconvert_exporter": "python",
      "pygments_lexer": "ipython3",
      "version": "3.8.5"
    }
  },
  "nbformat": 4,
  "nbformat_minor": 0
}